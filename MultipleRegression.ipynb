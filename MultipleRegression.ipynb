{
 "cells": [
  {
   "cell_type": "code",
   "execution_count": 1,
   "id": "b4450723",
   "metadata": {},
   "outputs": [],
   "source": [
    "import pandas as pd"
   ]
  },
  {
   "cell_type": "code",
   "execution_count": 4,
   "id": "ce974a62",
   "metadata": {},
   "outputs": [],
   "source": [
    "df = pd.read_excel(\"C:\\\\Users\\\\thora\\\\Documents\\\\car price prediction 2.xlsx\")"
   ]
  },
  {
   "cell_type": "code",
   "execution_count": 5,
   "id": "18339dd9",
   "metadata": {},
   "outputs": [
    {
     "data": {
      "text/html": [
       "<div>\n",
       "<style scoped>\n",
       "    .dataframe tbody tr th:only-of-type {\n",
       "        vertical-align: middle;\n",
       "    }\n",
       "\n",
       "    .dataframe tbody tr th {\n",
       "        vertical-align: top;\n",
       "    }\n",
       "\n",
       "    .dataframe thead th {\n",
       "        text-align: right;\n",
       "    }\n",
       "</style>\n",
       "<table border=\"1\" class=\"dataframe\">\n",
       "  <thead>\n",
       "    <tr style=\"text-align: right;\">\n",
       "      <th></th>\n",
       "      <th>Name</th>\n",
       "      <th>Kilometers_Driven</th>\n",
       "      <th>Price</th>\n",
       "      <th>horsepower</th>\n",
       "    </tr>\n",
       "  </thead>\n",
       "  <tbody>\n",
       "    <tr>\n",
       "      <th>0</th>\n",
       "      <td>Maruti</td>\n",
       "      <td>72000</td>\n",
       "      <td>1.75</td>\n",
       "      <td>111</td>\n",
       "    </tr>\n",
       "    <tr>\n",
       "      <th>1</th>\n",
       "      <td>Hyundai</td>\n",
       "      <td>41000</td>\n",
       "      <td>12.50</td>\n",
       "      <td>111</td>\n",
       "    </tr>\n",
       "    <tr>\n",
       "      <th>2</th>\n",
       "      <td>Honda</td>\n",
       "      <td>46000</td>\n",
       "      <td>4.50</td>\n",
       "      <td>154</td>\n",
       "    </tr>\n",
       "    <tr>\n",
       "      <th>3</th>\n",
       "      <td>Maruti</td>\n",
       "      <td>87000</td>\n",
       "      <td>6.00</td>\n",
       "      <td>102</td>\n",
       "    </tr>\n",
       "    <tr>\n",
       "      <th>4</th>\n",
       "      <td>Audi</td>\n",
       "      <td>40670</td>\n",
       "      <td>17.74</td>\n",
       "      <td>115</td>\n",
       "    </tr>\n",
       "  </tbody>\n",
       "</table>\n",
       "</div>"
      ],
      "text/plain": [
       "       Name  Kilometers_Driven  Price  horsepower\n",
       "0   Maruti               72000   1.75         111\n",
       "1  Hyundai               41000  12.50         111\n",
       "2    Honda               46000   4.50         154\n",
       "3    Maruti              87000   6.00         102\n",
       "4     Audi               40670  17.74         115"
      ]
     },
     "execution_count": 5,
     "metadata": {},
     "output_type": "execute_result"
    }
   ],
   "source": [
    "df.head()"
   ]
  },
  {
   "cell_type": "code",
   "execution_count": 7,
   "id": "663b57da",
   "metadata": {},
   "outputs": [
    {
     "data": {
      "text/html": [
       "<div>\n",
       "<style scoped>\n",
       "    .dataframe tbody tr th:only-of-type {\n",
       "        vertical-align: middle;\n",
       "    }\n",
       "\n",
       "    .dataframe tbody tr th {\n",
       "        vertical-align: top;\n",
       "    }\n",
       "\n",
       "    .dataframe thead th {\n",
       "        text-align: right;\n",
       "    }\n",
       "</style>\n",
       "<table border=\"1\" class=\"dataframe\">\n",
       "  <thead>\n",
       "    <tr style=\"text-align: right;\">\n",
       "      <th></th>\n",
       "      <th>Name</th>\n",
       "      <th>Kilometers_Driven</th>\n",
       "      <th>Price</th>\n",
       "      <th>horsepower</th>\n",
       "    </tr>\n",
       "  </thead>\n",
       "  <tbody>\n",
       "    <tr>\n",
       "      <th>54</th>\n",
       "      <td>Hyundai</td>\n",
       "      <td>54000</td>\n",
       "      <td>3.60</td>\n",
       "      <td>68</td>\n",
       "    </tr>\n",
       "    <tr>\n",
       "      <th>55</th>\n",
       "      <td>Volkswagen</td>\n",
       "      <td>39000</td>\n",
       "      <td>3.99</td>\n",
       "      <td>101</td>\n",
       "    </tr>\n",
       "    <tr>\n",
       "      <th>56</th>\n",
       "      <td>Renaul</td>\n",
       "      <td>16542</td>\n",
       "      <td>3.30</td>\n",
       "      <td>101</td>\n",
       "    </tr>\n",
       "    <tr>\n",
       "      <th>57</th>\n",
       "      <td>Hyundai</td>\n",
       "      <td>32000</td>\n",
       "      <td>2.07</td>\n",
       "      <td>101</td>\n",
       "    </tr>\n",
       "    <tr>\n",
       "      <th>58</th>\n",
       "      <td>Nissan</td>\n",
       "      <td>121812</td>\n",
       "      <td>7.75</td>\n",
       "      <td>135</td>\n",
       "    </tr>\n",
       "  </tbody>\n",
       "</table>\n",
       "</div>"
      ],
      "text/plain": [
       "           Name  Kilometers_Driven  Price  horsepower\n",
       "54     Hyundai               54000   3.60          68\n",
       "55  Volkswagen               39000   3.99         101\n",
       "56       Renaul              16542   3.30         101\n",
       "57     Hyundai               32000   2.07         101\n",
       "58      Nissan              121812   7.75         135"
      ]
     },
     "execution_count": 7,
     "metadata": {},
     "output_type": "execute_result"
    }
   ],
   "source": [
    "df.tail()"
   ]
  },
  {
   "cell_type": "code",
   "execution_count": 8,
   "id": "35aee75d",
   "metadata": {},
   "outputs": [
    {
     "data": {
      "text/plain": [
       "(59, 4)"
      ]
     },
     "execution_count": 8,
     "metadata": {},
     "output_type": "execute_result"
    }
   ],
   "source": [
    "df.shape"
   ]
  },
  {
   "cell_type": "code",
   "execution_count": 9,
   "id": "acf28e75",
   "metadata": {},
   "outputs": [
    {
     "data": {
      "text/plain": [
       "Name                 0\n",
       "Kilometers_Driven    0\n",
       "Price                0\n",
       "horsepower           0\n",
       "dtype: int64"
      ]
     },
     "execution_count": 9,
     "metadata": {},
     "output_type": "execute_result"
    }
   ],
   "source": [
    "df.isnull().sum()"
   ]
  },
  {
   "cell_type": "code",
   "execution_count": 10,
   "id": "fea0afe9",
   "metadata": {},
   "outputs": [
    {
     "name": "stdout",
     "output_type": "stream",
     "text": [
      "<class 'pandas.core.frame.DataFrame'>\n",
      "RangeIndex: 59 entries, 0 to 58\n",
      "Data columns (total 4 columns):\n",
      " #   Column             Non-Null Count  Dtype  \n",
      "---  ------             --------------  -----  \n",
      " 0   Name               59 non-null     object \n",
      " 1   Kilometers_Driven  59 non-null     int64  \n",
      " 2   Price              59 non-null     float64\n",
      " 3   horsepower         59 non-null     int64  \n",
      "dtypes: float64(1), int64(2), object(1)\n",
      "memory usage: 2.0+ KB\n"
     ]
    }
   ],
   "source": [
    "df.info()"
   ]
  },
  {
   "cell_type": "code",
   "execution_count": 11,
   "id": "a13f252a",
   "metadata": {},
   "outputs": [
    {
     "data": {
      "text/html": [
       "<div>\n",
       "<style scoped>\n",
       "    .dataframe tbody tr th:only-of-type {\n",
       "        vertical-align: middle;\n",
       "    }\n",
       "\n",
       "    .dataframe tbody tr th {\n",
       "        vertical-align: top;\n",
       "    }\n",
       "\n",
       "    .dataframe thead th {\n",
       "        text-align: right;\n",
       "    }\n",
       "</style>\n",
       "<table border=\"1\" class=\"dataframe\">\n",
       "  <thead>\n",
       "    <tr style=\"text-align: right;\">\n",
       "      <th></th>\n",
       "      <th>Kilometers_Driven</th>\n",
       "      <th>Price</th>\n",
       "      <th>horsepower</th>\n",
       "    </tr>\n",
       "  </thead>\n",
       "  <tbody>\n",
       "    <tr>\n",
       "      <th>count</th>\n",
       "      <td>59.000000</td>\n",
       "      <td>59.000000</td>\n",
       "      <td>59.000000</td>\n",
       "    </tr>\n",
       "    <tr>\n",
       "      <th>mean</th>\n",
       "      <td>60885.983051</td>\n",
       "      <td>8.176102</td>\n",
       "      <td>102.406780</td>\n",
       "    </tr>\n",
       "    <tr>\n",
       "      <th>std</th>\n",
       "      <td>34844.008354</td>\n",
       "      <td>6.893638</td>\n",
       "      <td>40.556524</td>\n",
       "    </tr>\n",
       "    <tr>\n",
       "      <th>min</th>\n",
       "      <td>13648.000000</td>\n",
       "      <td>1.250000</td>\n",
       "      <td>48.000000</td>\n",
       "    </tr>\n",
       "    <tr>\n",
       "      <th>25%</th>\n",
       "      <td>40835.000000</td>\n",
       "      <td>3.850000</td>\n",
       "      <td>70.000000</td>\n",
       "    </tr>\n",
       "    <tr>\n",
       "      <th>50%</th>\n",
       "      <td>55431.000000</td>\n",
       "      <td>5.500000</td>\n",
       "      <td>100.000000</td>\n",
       "    </tr>\n",
       "    <tr>\n",
       "      <th>75%</th>\n",
       "      <td>73500.000000</td>\n",
       "      <td>10.030000</td>\n",
       "      <td>113.000000</td>\n",
       "    </tr>\n",
       "    <tr>\n",
       "      <th>max</th>\n",
       "      <td>262000.000000</td>\n",
       "      <td>28.000000</td>\n",
       "      <td>262.000000</td>\n",
       "    </tr>\n",
       "  </tbody>\n",
       "</table>\n",
       "</div>"
      ],
      "text/plain": [
       "       Kilometers_Driven      Price  horsepower\n",
       "count          59.000000  59.000000   59.000000\n",
       "mean        60885.983051   8.176102  102.406780\n",
       "std         34844.008354   6.893638   40.556524\n",
       "min         13648.000000   1.250000   48.000000\n",
       "25%         40835.000000   3.850000   70.000000\n",
       "50%         55431.000000   5.500000  100.000000\n",
       "75%         73500.000000  10.030000  113.000000\n",
       "max        262000.000000  28.000000  262.000000"
      ]
     },
     "execution_count": 11,
     "metadata": {},
     "output_type": "execute_result"
    }
   ],
   "source": [
    "df.describe()"
   ]
  },
  {
   "cell_type": "code",
   "execution_count": 13,
   "id": "22a72d47",
   "metadata": {},
   "outputs": [],
   "source": [
    "X = df[['Kilometers_Driven','horsepower']]"
   ]
  },
  {
   "cell_type": "code",
   "execution_count": 14,
   "id": "3c1cf641",
   "metadata": {},
   "outputs": [
    {
     "data": {
      "text/html": [
       "<div>\n",
       "<style scoped>\n",
       "    .dataframe tbody tr th:only-of-type {\n",
       "        vertical-align: middle;\n",
       "    }\n",
       "\n",
       "    .dataframe tbody tr th {\n",
       "        vertical-align: top;\n",
       "    }\n",
       "\n",
       "    .dataframe thead th {\n",
       "        text-align: right;\n",
       "    }\n",
       "</style>\n",
       "<table border=\"1\" class=\"dataframe\">\n",
       "  <thead>\n",
       "    <tr style=\"text-align: right;\">\n",
       "      <th></th>\n",
       "      <th>Kilometers_Driven</th>\n",
       "      <th>horsepower</th>\n",
       "    </tr>\n",
       "  </thead>\n",
       "  <tbody>\n",
       "    <tr>\n",
       "      <th>0</th>\n",
       "      <td>72000</td>\n",
       "      <td>111</td>\n",
       "    </tr>\n",
       "    <tr>\n",
       "      <th>1</th>\n",
       "      <td>41000</td>\n",
       "      <td>111</td>\n",
       "    </tr>\n",
       "    <tr>\n",
       "      <th>2</th>\n",
       "      <td>46000</td>\n",
       "      <td>154</td>\n",
       "    </tr>\n",
       "    <tr>\n",
       "      <th>3</th>\n",
       "      <td>87000</td>\n",
       "      <td>102</td>\n",
       "    </tr>\n",
       "    <tr>\n",
       "      <th>4</th>\n",
       "      <td>40670</td>\n",
       "      <td>115</td>\n",
       "    </tr>\n",
       "  </tbody>\n",
       "</table>\n",
       "</div>"
      ],
      "text/plain": [
       "   Kilometers_Driven  horsepower\n",
       "0              72000         111\n",
       "1              41000         111\n",
       "2              46000         154\n",
       "3              87000         102\n",
       "4              40670         115"
      ]
     },
     "execution_count": 14,
     "metadata": {},
     "output_type": "execute_result"
    }
   ],
   "source": [
    "X.head()"
   ]
  },
  {
   "cell_type": "code",
   "execution_count": 15,
   "id": "de9e6151",
   "metadata": {},
   "outputs": [],
   "source": [
    "y = df.Price"
   ]
  },
  {
   "cell_type": "code",
   "execution_count": 16,
   "id": "15074937",
   "metadata": {},
   "outputs": [
    {
     "data": {
      "text/plain": [
       "0     1.75\n",
       "1    12.50\n",
       "2     4.50\n",
       "3     6.00\n",
       "4    17.74\n",
       "Name: Price, dtype: float64"
      ]
     },
     "execution_count": 16,
     "metadata": {},
     "output_type": "execute_result"
    }
   ],
   "source": [
    "y.head()"
   ]
  },
  {
   "cell_type": "code",
   "execution_count": 17,
   "id": "71f43da8",
   "metadata": {},
   "outputs": [],
   "source": [
    "from sklearn.linear_model import LinearRegression"
   ]
  },
  {
   "cell_type": "code",
   "execution_count": 19,
   "id": "11c13892",
   "metadata": {},
   "outputs": [],
   "source": [
    "model = LinearRegression() "
   ]
  },
  {
   "cell_type": "code",
   "execution_count": 20,
   "id": "5805bb91",
   "metadata": {},
   "outputs": [
    {
     "data": {
      "text/plain": [
       "LinearRegression()"
      ]
     },
     "execution_count": 20,
     "metadata": {},
     "output_type": "execute_result"
    }
   ],
   "source": [
    "model.fit(X,y)"
   ]
  },
  {
   "cell_type": "code",
   "execution_count": 25,
   "id": "54ada2ba",
   "metadata": {},
   "outputs": [
    {
     "data": {
      "text/plain": [
       "array([ 9.65759973e-07, -1.63697620e-02])"
      ]
     },
     "execution_count": 25,
     "metadata": {},
     "output_type": "execute_result"
    }
   ],
   "source": [
    "coef = model.coef_\n",
    "coef"
   ]
  },
  {
   "cell_type": "code",
   "execution_count": 26,
   "id": "a25e6258",
   "metadata": {},
   "outputs": [
    {
     "data": {
      "text/plain": [
       "9.793675054969981"
      ]
     },
     "execution_count": 26,
     "metadata": {},
     "output_type": "execute_result"
    }
   ],
   "source": [
    "intercept = model.intercept_\n",
    "intercept"
   ]
  },
  {
   "cell_type": "code",
   "execution_count": 27,
   "id": "4f965b82",
   "metadata": {},
   "outputs": [
    {
     "name": "stderr",
     "output_type": "stream",
     "text": [
      "C:\\Users\\thora\\anaconda3\\lib\\site-packages\\sklearn\\base.py:450: UserWarning: X does not have valid feature names, but LinearRegression was fitted with feature names\n",
      "  warnings.warn(\n"
     ]
    },
    {
     "data": {
      "text/plain": [
       "array([8.00372092])"
      ]
     },
     "execution_count": 27,
     "metadata": {},
     "output_type": "execute_result"
    }
   ],
   "source": [
    "model.predict([[45000,112]])"
   ]
  },
  {
   "cell_type": "code",
   "execution_count": 28,
   "id": "19e8e109",
   "metadata": {},
   "outputs": [],
   "source": [
    "output = coef[0]*45000 + coef[1]*112 + intercept"
   ]
  },
  {
   "cell_type": "code",
   "execution_count": 29,
   "id": "ecc07203",
   "metadata": {},
   "outputs": [
    {
     "data": {
      "text/plain": [
       "8.003720915038134"
      ]
     },
     "execution_count": 29,
     "metadata": {},
     "output_type": "execute_result"
    }
   ],
   "source": [
    "output"
   ]
  },
  {
   "cell_type": "code",
   "execution_count": 30,
   "id": "8ef9c30e",
   "metadata": {},
   "outputs": [
    {
     "data": {
      "text/plain": [
       "0.00906992507584492"
      ]
     },
     "execution_count": 30,
     "metadata": {},
     "output_type": "execute_result"
    }
   ],
   "source": [
    "model.score(X,y)"
   ]
  },
  {
   "cell_type": "code",
   "execution_count": 37,
   "id": "14bcec9f",
   "metadata": {},
   "outputs": [],
   "source": [
    "df = pd.read_excel(\"C:\\\\Users\\\\thora\\\\Documents\\\\cars2.xlsx\")"
   ]
  },
  {
   "cell_type": "code",
   "execution_count": 38,
   "id": "cf01eea1",
   "metadata": {},
   "outputs": [
    {
     "data": {
      "text/html": [
       "<div>\n",
       "<style scoped>\n",
       "    .dataframe tbody tr th:only-of-type {\n",
       "        vertical-align: middle;\n",
       "    }\n",
       "\n",
       "    .dataframe tbody tr th {\n",
       "        vertical-align: top;\n",
       "    }\n",
       "\n",
       "    .dataframe thead th {\n",
       "        text-align: right;\n",
       "    }\n",
       "</style>\n",
       "<table border=\"1\" class=\"dataframe\">\n",
       "  <thead>\n",
       "    <tr style=\"text-align: right;\">\n",
       "      <th></th>\n",
       "      <th>Name</th>\n",
       "      <th>horsepower</th>\n",
       "      <th>stroke</th>\n",
       "      <th>Price</th>\n",
       "    </tr>\n",
       "  </thead>\n",
       "  <tbody>\n",
       "    <tr>\n",
       "      <th>0</th>\n",
       "      <td>Maruti</td>\n",
       "      <td>111</td>\n",
       "      <td>2.68</td>\n",
       "      <td>1.75</td>\n",
       "    </tr>\n",
       "    <tr>\n",
       "      <th>1</th>\n",
       "      <td>Hyundai</td>\n",
       "      <td>111</td>\n",
       "      <td>2.68</td>\n",
       "      <td>12.50</td>\n",
       "    </tr>\n",
       "    <tr>\n",
       "      <th>2</th>\n",
       "      <td>Honda</td>\n",
       "      <td>154</td>\n",
       "      <td>3.47</td>\n",
       "      <td>4.50</td>\n",
       "    </tr>\n",
       "    <tr>\n",
       "      <th>3</th>\n",
       "      <td>Maruti</td>\n",
       "      <td>102</td>\n",
       "      <td>3.40</td>\n",
       "      <td>6.00</td>\n",
       "    </tr>\n",
       "    <tr>\n",
       "      <th>4</th>\n",
       "      <td>Audi</td>\n",
       "      <td>115</td>\n",
       "      <td>3.40</td>\n",
       "      <td>17.74</td>\n",
       "    </tr>\n",
       "  </tbody>\n",
       "</table>\n",
       "</div>"
      ],
      "text/plain": [
       "       Name  horsepower  stroke  Price\n",
       "0   Maruti          111    2.68   1.75\n",
       "1  Hyundai          111    2.68  12.50\n",
       "2    Honda          154    3.47   4.50\n",
       "3    Maruti         102    3.40   6.00\n",
       "4     Audi          115    3.40  17.74"
      ]
     },
     "execution_count": 38,
     "metadata": {},
     "output_type": "execute_result"
    }
   ],
   "source": [
    "df.head()"
   ]
  },
  {
   "cell_type": "code",
   "execution_count": 39,
   "id": "217e98dc",
   "metadata": {},
   "outputs": [],
   "source": [
    "X = df[['horsepower','stroke']]"
   ]
  },
  {
   "cell_type": "code",
   "execution_count": 41,
   "id": "1866c6c1",
   "metadata": {},
   "outputs": [
    {
     "data": {
      "text/html": [
       "<div>\n",
       "<style scoped>\n",
       "    .dataframe tbody tr th:only-of-type {\n",
       "        vertical-align: middle;\n",
       "    }\n",
       "\n",
       "    .dataframe tbody tr th {\n",
       "        vertical-align: top;\n",
       "    }\n",
       "\n",
       "    .dataframe thead th {\n",
       "        text-align: right;\n",
       "    }\n",
       "</style>\n",
       "<table border=\"1\" class=\"dataframe\">\n",
       "  <thead>\n",
       "    <tr style=\"text-align: right;\">\n",
       "      <th></th>\n",
       "      <th>horsepower</th>\n",
       "      <th>stroke</th>\n",
       "    </tr>\n",
       "  </thead>\n",
       "  <tbody>\n",
       "    <tr>\n",
       "      <th>0</th>\n",
       "      <td>111</td>\n",
       "      <td>2.68</td>\n",
       "    </tr>\n",
       "    <tr>\n",
       "      <th>1</th>\n",
       "      <td>111</td>\n",
       "      <td>2.68</td>\n",
       "    </tr>\n",
       "    <tr>\n",
       "      <th>2</th>\n",
       "      <td>154</td>\n",
       "      <td>3.47</td>\n",
       "    </tr>\n",
       "    <tr>\n",
       "      <th>3</th>\n",
       "      <td>102</td>\n",
       "      <td>3.40</td>\n",
       "    </tr>\n",
       "    <tr>\n",
       "      <th>4</th>\n",
       "      <td>115</td>\n",
       "      <td>3.40</td>\n",
       "    </tr>\n",
       "  </tbody>\n",
       "</table>\n",
       "</div>"
      ],
      "text/plain": [
       "   horsepower  stroke\n",
       "0         111    2.68\n",
       "1         111    2.68\n",
       "2         154    3.47\n",
       "3         102    3.40\n",
       "4         115    3.40"
      ]
     },
     "execution_count": 41,
     "metadata": {},
     "output_type": "execute_result"
    }
   ],
   "source": [
    "X.head()"
   ]
  },
  {
   "cell_type": "code",
   "execution_count": 42,
   "id": "2310c877",
   "metadata": {},
   "outputs": [],
   "source": [
    "y = df.Price"
   ]
  },
  {
   "cell_type": "code",
   "execution_count": 43,
   "id": "c5d9f16e",
   "metadata": {},
   "outputs": [
    {
     "data": {
      "text/plain": [
       "0     1.75\n",
       "1    12.50\n",
       "2     4.50\n",
       "3     6.00\n",
       "4    17.74\n",
       "Name: Price, dtype: float64"
      ]
     },
     "execution_count": 43,
     "metadata": {},
     "output_type": "execute_result"
    }
   ],
   "source": [
    "y.head()"
   ]
  },
  {
   "cell_type": "code",
   "execution_count": 44,
   "id": "3c583805",
   "metadata": {},
   "outputs": [],
   "source": [
    "from sklearn.preprocessing import MinMaxScaler"
   ]
  },
  {
   "cell_type": "code",
   "execution_count": 45,
   "id": "50764566",
   "metadata": {},
   "outputs": [],
   "source": [
    "Scaler = MinMaxScaler()"
   ]
  },
  {
   "cell_type": "code",
   "execution_count": 46,
   "id": "ab7b63cf",
   "metadata": {},
   "outputs": [],
   "source": [
    "ScaledX = Scaler.fit_transform(X)"
   ]
  },
  {
   "cell_type": "code",
   "execution_count": 47,
   "id": "b47c56d8",
   "metadata": {},
   "outputs": [
    {
     "data": {
      "text/plain": [
       "array([[0.29439252, 0.        ],\n",
       "       [0.29439252, 0.        ],\n",
       "       [0.4953271 , 0.53020134],\n",
       "       [0.25233645, 0.48322148],\n",
       "       [0.31308411, 0.48322148],\n",
       "       [0.28971963, 0.48322148],\n",
       "       [0.28971963, 0.48322148],\n",
       "       [0.28971963, 0.48322148],\n",
       "       [0.42990654, 0.48322148],\n",
       "       [0.52336449, 0.48322148],\n",
       "       [0.24766355, 0.08053691],\n",
       "       [0.24766355, 0.08053691],\n",
       "       [0.3411215 , 0.34228188],\n",
       "       [0.3411215 , 0.34228188],\n",
       "       [0.3411215 , 0.34228188],\n",
       "       [0.62616822, 0.47651007],\n",
       "       [0.62616822, 0.47651007],\n",
       "       [0.62616822, 0.47651007],\n",
       "       [0.        , 0.23489933],\n",
       "       [0.10280374, 0.2885906 ],\n",
       "       [0.10280374, 0.2885906 ],\n",
       "       [0.09345794, 0.36912752],\n",
       "       [0.09345794, 0.36912752],\n",
       "       [0.25233645, 0.47651007],\n",
       "       [0.09345794, 0.36912752],\n",
       "       [0.09345794, 0.36912752],\n",
       "       [0.09345794, 0.36912752],\n",
       "       [0.25233645, 0.47651007],\n",
       "       [0.18691589, 0.52348993],\n",
       "       [0.45327103, 0.81879195],\n",
       "       [0.04672897, 0.48993289],\n",
       "       [0.13084112, 0.48993289],\n",
       "       [0.05607477, 0.26174497],\n",
       "       [0.13084112, 0.48993289],\n",
       "       [0.13084112, 0.48993289],\n",
       "       [0.13084112, 0.48993289],\n",
       "       [0.13084112, 0.48993289],\n",
       "       [0.17757009, 0.60402685],\n",
       "       [0.17757009, 0.60402685],\n",
       "       [0.17757009, 0.60402685],\n",
       "       [0.17757009, 0.60402685],\n",
       "       [0.24766355, 0.60402685],\n",
       "       [0.24299065, 0.60402685],\n",
       "       [0.14018692, 0.36912752],\n",
       "       [0.10280374, 0.2885906 ],\n",
       "       [0.10280374, 0.2885906 ],\n",
       "       [0.19626168, 0.36912752],\n",
       "       [0.59813084, 1.        ],\n",
       "       [0.59813084, 1.        ],\n",
       "       [1.        , 0.05369128],\n",
       "       [0.09345794, 0.31543624],\n",
       "       [0.09345794, 0.31543624],\n",
       "       [0.09345794, 0.31543624],\n",
       "       [0.09345794, 0.31543624],\n",
       "       [0.09345794, 0.31543624],\n",
       "       [0.24766355, 0.38590604],\n",
       "       [0.24766355, 0.38590604],\n",
       "       [0.24766355, 0.38590604],\n",
       "       [0.40654206, 0.38590604]])"
      ]
     },
     "execution_count": 47,
     "metadata": {},
     "output_type": "execute_result"
    }
   ],
   "source": [
    "ScaledX"
   ]
  },
  {
   "cell_type": "code",
   "execution_count": 48,
   "id": "128bcfe2",
   "metadata": {},
   "outputs": [
    {
     "data": {
      "text/plain": [
       "LinearRegression()"
      ]
     },
     "execution_count": 48,
     "metadata": {},
     "output_type": "execute_result"
    }
   ],
   "source": [
    "model.fit(ScaledX,y)"
   ]
  },
  {
   "cell_type": "code",
   "execution_count": 49,
   "id": "e8b9ef12",
   "metadata": {},
   "outputs": [
    {
     "data": {
      "text/plain": [
       "0.015183261387586966"
      ]
     },
     "execution_count": 49,
     "metadata": {},
     "output_type": "execute_result"
    }
   ],
   "source": [
    "model.score(ScaledX,y)"
   ]
  },
  {
   "cell_type": "code",
   "execution_count": 50,
   "id": "f1a70177",
   "metadata": {},
   "outputs": [
    {
     "name": "stderr",
     "output_type": "stream",
     "text": [
      "C:\\Users\\thora\\anaconda3\\lib\\site-packages\\sklearn\\base.py:450: UserWarning: X does not have valid feature names, but MinMaxScaler was fitted with feature names\n",
      "  warnings.warn(\n"
     ]
    },
    {
     "data": {
      "text/plain": [
       "array([[ 0.29906542, -0.00671141]])"
      ]
     },
     "execution_count": 50,
     "metadata": {},
     "output_type": "execute_result"
    }
   ],
   "source": [
    "Scaler.transform([[112,2.67]])"
   ]
  },
  {
   "cell_type": "code",
   "execution_count": 51,
   "id": "54c40d80",
   "metadata": {},
   "outputs": [
    {
     "name": "stderr",
     "output_type": "stream",
     "text": [
      "C:\\Users\\thora\\anaconda3\\lib\\site-packages\\sklearn\\base.py:450: UserWarning: X does not have valid feature names, but MinMaxScaler was fitted with feature names\n",
      "  warnings.warn(\n"
     ]
    },
    {
     "data": {
      "text/plain": [
       "array([9.29807247])"
      ]
     },
     "execution_count": 51,
     "metadata": {},
     "output_type": "execute_result"
    }
   ],
   "source": [
    "model.predict(Scaler.transform([[112,2.67]]))"
   ]
  },
  {
   "cell_type": "code",
   "execution_count": null,
   "id": "8a2a4c3f",
   "metadata": {},
   "outputs": [],
   "source": []
  }
 ],
 "metadata": {
  "kernelspec": {
   "display_name": "Python 3 (ipykernel)",
   "language": "python",
   "name": "python3"
  },
  "language_info": {
   "codemirror_mode": {
    "name": "ipython",
    "version": 3
   },
   "file_extension": ".py",
   "mimetype": "text/x-python",
   "name": "python",
   "nbconvert_exporter": "python",
   "pygments_lexer": "ipython3",
   "version": "3.9.12"
  }
 },
 "nbformat": 4,
 "nbformat_minor": 5
}
