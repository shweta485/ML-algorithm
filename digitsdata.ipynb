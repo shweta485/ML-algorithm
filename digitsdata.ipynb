{
 "cells": [
  {
   "cell_type": "code",
   "execution_count": 1,
   "id": "9c940650",
   "metadata": {},
   "outputs": [],
   "source": [
    "import pandas as pd\n",
    "import numpy as np\n",
    "import matplotlib.pyplot as plt\n",
    "from sklearn.linear_model import LogisticRegression\n",
    "from sklearn.metrics import confusion_matrix"
   ]
  },
  {
   "cell_type": "code",
   "execution_count": 2,
   "id": "04e8955f",
   "metadata": {},
   "outputs": [],
   "source": [
    "from sklearn.datasets import load_digits"
   ]
  },
  {
   "cell_type": "code",
   "execution_count": 3,
   "id": "37bffc7e",
   "metadata": {},
   "outputs": [],
   "source": [
    "digits = load_digits()"
   ]
  },
  {
   "cell_type": "code",
   "execution_count": 4,
   "id": "c4a7f817",
   "metadata": {},
   "outputs": [
    {
     "data": {
      "text/plain": [
       "{'data': array([[ 0.,  0.,  5., ...,  0.,  0.,  0.],\n",
       "        [ 0.,  0.,  0., ..., 10.,  0.,  0.],\n",
       "        [ 0.,  0.,  0., ..., 16.,  9.,  0.],\n",
       "        ...,\n",
       "        [ 0.,  0.,  1., ...,  6.,  0.,  0.],\n",
       "        [ 0.,  0.,  2., ..., 12.,  0.,  0.],\n",
       "        [ 0.,  0., 10., ..., 12.,  1.,  0.]]),\n",
       " 'target': array([0, 1, 2, ..., 8, 9, 8]),\n",
       " 'frame': None,\n",
       " 'feature_names': ['pixel_0_0',\n",
       "  'pixel_0_1',\n",
       "  'pixel_0_2',\n",
       "  'pixel_0_3',\n",
       "  'pixel_0_4',\n",
       "  'pixel_0_5',\n",
       "  'pixel_0_6',\n",
       "  'pixel_0_7',\n",
       "  'pixel_1_0',\n",
       "  'pixel_1_1',\n",
       "  'pixel_1_2',\n",
       "  'pixel_1_3',\n",
       "  'pixel_1_4',\n",
       "  'pixel_1_5',\n",
       "  'pixel_1_6',\n",
       "  'pixel_1_7',\n",
       "  'pixel_2_0',\n",
       "  'pixel_2_1',\n",
       "  'pixel_2_2',\n",
       "  'pixel_2_3',\n",
       "  'pixel_2_4',\n",
       "  'pixel_2_5',\n",
       "  'pixel_2_6',\n",
       "  'pixel_2_7',\n",
       "  'pixel_3_0',\n",
       "  'pixel_3_1',\n",
       "  'pixel_3_2',\n",
       "  'pixel_3_3',\n",
       "  'pixel_3_4',\n",
       "  'pixel_3_5',\n",
       "  'pixel_3_6',\n",
       "  'pixel_3_7',\n",
       "  'pixel_4_0',\n",
       "  'pixel_4_1',\n",
       "  'pixel_4_2',\n",
       "  'pixel_4_3',\n",
       "  'pixel_4_4',\n",
       "  'pixel_4_5',\n",
       "  'pixel_4_6',\n",
       "  'pixel_4_7',\n",
       "  'pixel_5_0',\n",
       "  'pixel_5_1',\n",
       "  'pixel_5_2',\n",
       "  'pixel_5_3',\n",
       "  'pixel_5_4',\n",
       "  'pixel_5_5',\n",
       "  'pixel_5_6',\n",
       "  'pixel_5_7',\n",
       "  'pixel_6_0',\n",
       "  'pixel_6_1',\n",
       "  'pixel_6_2',\n",
       "  'pixel_6_3',\n",
       "  'pixel_6_4',\n",
       "  'pixel_6_5',\n",
       "  'pixel_6_6',\n",
       "  'pixel_6_7',\n",
       "  'pixel_7_0',\n",
       "  'pixel_7_1',\n",
       "  'pixel_7_2',\n",
       "  'pixel_7_3',\n",
       "  'pixel_7_4',\n",
       "  'pixel_7_5',\n",
       "  'pixel_7_6',\n",
       "  'pixel_7_7'],\n",
       " 'target_names': array([0, 1, 2, 3, 4, 5, 6, 7, 8, 9]),\n",
       " 'images': array([[[ 0.,  0.,  5., ...,  1.,  0.,  0.],\n",
       "         [ 0.,  0., 13., ..., 15.,  5.,  0.],\n",
       "         [ 0.,  3., 15., ..., 11.,  8.,  0.],\n",
       "         ...,\n",
       "         [ 0.,  4., 11., ..., 12.,  7.,  0.],\n",
       "         [ 0.,  2., 14., ..., 12.,  0.,  0.],\n",
       "         [ 0.,  0.,  6., ...,  0.,  0.,  0.]],\n",
       " \n",
       "        [[ 0.,  0.,  0., ...,  5.,  0.,  0.],\n",
       "         [ 0.,  0.,  0., ...,  9.,  0.,  0.],\n",
       "         [ 0.,  0.,  3., ...,  6.,  0.,  0.],\n",
       "         ...,\n",
       "         [ 0.,  0.,  1., ...,  6.,  0.,  0.],\n",
       "         [ 0.,  0.,  1., ...,  6.,  0.,  0.],\n",
       "         [ 0.,  0.,  0., ..., 10.,  0.,  0.]],\n",
       " \n",
       "        [[ 0.,  0.,  0., ..., 12.,  0.,  0.],\n",
       "         [ 0.,  0.,  3., ..., 14.,  0.,  0.],\n",
       "         [ 0.,  0.,  8., ..., 16.,  0.,  0.],\n",
       "         ...,\n",
       "         [ 0.,  9., 16., ...,  0.,  0.,  0.],\n",
       "         [ 0.,  3., 13., ..., 11.,  5.,  0.],\n",
       "         [ 0.,  0.,  0., ..., 16.,  9.,  0.]],\n",
       " \n",
       "        ...,\n",
       " \n",
       "        [[ 0.,  0.,  1., ...,  1.,  0.,  0.],\n",
       "         [ 0.,  0., 13., ...,  2.,  1.,  0.],\n",
       "         [ 0.,  0., 16., ..., 16.,  5.,  0.],\n",
       "         ...,\n",
       "         [ 0.,  0., 16., ..., 15.,  0.,  0.],\n",
       "         [ 0.,  0., 15., ..., 16.,  0.,  0.],\n",
       "         [ 0.,  0.,  2., ...,  6.,  0.,  0.]],\n",
       " \n",
       "        [[ 0.,  0.,  2., ...,  0.,  0.,  0.],\n",
       "         [ 0.,  0., 14., ..., 15.,  1.,  0.],\n",
       "         [ 0.,  4., 16., ..., 16.,  7.,  0.],\n",
       "         ...,\n",
       "         [ 0.,  0.,  0., ..., 16.,  2.,  0.],\n",
       "         [ 0.,  0.,  4., ..., 16.,  2.,  0.],\n",
       "         [ 0.,  0.,  5., ..., 12.,  0.,  0.]],\n",
       " \n",
       "        [[ 0.,  0., 10., ...,  1.,  0.,  0.],\n",
       "         [ 0.,  2., 16., ...,  1.,  0.,  0.],\n",
       "         [ 0.,  0., 15., ..., 15.,  0.,  0.],\n",
       "         ...,\n",
       "         [ 0.,  4., 16., ..., 16.,  6.,  0.],\n",
       "         [ 0.,  8., 16., ..., 16.,  8.,  0.],\n",
       "         [ 0.,  1.,  8., ..., 12.,  1.,  0.]]]),\n",
       " 'DESCR': \".. _digits_dataset:\\n\\nOptical recognition of handwritten digits dataset\\n--------------------------------------------------\\n\\n**Data Set Characteristics:**\\n\\n    :Number of Instances: 1797\\n    :Number of Attributes: 64\\n    :Attribute Information: 8x8 image of integer pixels in the range 0..16.\\n    :Missing Attribute Values: None\\n    :Creator: E. Alpaydin (alpaydin '@' boun.edu.tr)\\n    :Date: July; 1998\\n\\nThis is a copy of the test set of the UCI ML hand-written digits datasets\\nhttps://archive.ics.uci.edu/ml/datasets/Optical+Recognition+of+Handwritten+Digits\\n\\nThe data set contains images of hand-written digits: 10 classes where\\neach class refers to a digit.\\n\\nPreprocessing programs made available by NIST were used to extract\\nnormalized bitmaps of handwritten digits from a preprinted form. From a\\ntotal of 43 people, 30 contributed to the training set and different 13\\nto the test set. 32x32 bitmaps are divided into nonoverlapping blocks of\\n4x4 and the number of on pixels are counted in each block. This generates\\nan input matrix of 8x8 where each element is an integer in the range\\n0..16. This reduces dimensionality and gives invariance to small\\ndistortions.\\n\\nFor info on NIST preprocessing routines, see M. D. Garris, J. L. Blue, G.\\nT. Candela, D. L. Dimmick, J. Geist, P. J. Grother, S. A. Janet, and C.\\nL. Wilson, NIST Form-Based Handprint Recognition System, NISTIR 5469,\\n1994.\\n\\n.. topic:: References\\n\\n  - C. Kaynak (1995) Methods of Combining Multiple Classifiers and Their\\n    Applications to Handwritten Digit Recognition, MSc Thesis, Institute of\\n    Graduate Studies in Science and Engineering, Bogazici University.\\n  - E. Alpaydin, C. Kaynak (1998) Cascading Classifiers, Kybernetika.\\n  - Ken Tang and Ponnuthurai N. Suganthan and Xi Yao and A. Kai Qin.\\n    Linear dimensionalityreduction using relevance weighted LDA. School of\\n    Electrical and Electronic Engineering Nanyang Technological University.\\n    2005.\\n  - Claudio Gentile. A New Approximate Maximal Margin Classification\\n    Algorithm. NIPS. 2000.\\n\"}"
      ]
     },
     "execution_count": 4,
     "metadata": {},
     "output_type": "execute_result"
    }
   ],
   "source": [
    "digits"
   ]
  },
  {
   "cell_type": "code",
   "execution_count": 5,
   "id": "13006c00",
   "metadata": {},
   "outputs": [
    {
     "data": {
      "text/plain": [
       "['DESCR', 'data', 'feature_names', 'frame', 'images', 'target', 'target_names']"
      ]
     },
     "execution_count": 5,
     "metadata": {},
     "output_type": "execute_result"
    }
   ],
   "source": [
    "dir(digits)"
   ]
  },
  {
   "cell_type": "code",
   "execution_count": 6,
   "id": "99d83479",
   "metadata": {},
   "outputs": [
    {
     "data": {
      "text/plain": [
       "array([ 0.,  0.,  5., 13.,  9.,  1.,  0.,  0.,  0.,  0., 13., 15., 10.,\n",
       "       15.,  5.,  0.,  0.,  3., 15.,  2.,  0., 11.,  8.,  0.,  0.,  4.,\n",
       "       12.,  0.,  0.,  8.,  8.,  0.,  0.,  5.,  8.,  0.,  0.,  9.,  8.,\n",
       "        0.,  0.,  4., 11.,  0.,  1., 12.,  7.,  0.,  0.,  2., 14.,  5.,\n",
       "       10., 12.,  0.,  0.,  0.,  0.,  6., 13., 10.,  0.,  0.,  0.])"
      ]
     },
     "execution_count": 6,
     "metadata": {},
     "output_type": "execute_result"
    }
   ],
   "source": [
    "digits.data[0]"
   ]
  },
  {
   "cell_type": "code",
   "execution_count": 7,
   "id": "00c2308a",
   "metadata": {},
   "outputs": [],
   "source": [
    "df = pd.DataFrame(digits.data,columns = digits.feature_names)"
   ]
  },
  {
   "cell_type": "code",
   "execution_count": 8,
   "id": "bbdd8aee",
   "metadata": {},
   "outputs": [
    {
     "data": {
      "text/html": [
       "<div>\n",
       "<style scoped>\n",
       "    .dataframe tbody tr th:only-of-type {\n",
       "        vertical-align: middle;\n",
       "    }\n",
       "\n",
       "    .dataframe tbody tr th {\n",
       "        vertical-align: top;\n",
       "    }\n",
       "\n",
       "    .dataframe thead th {\n",
       "        text-align: right;\n",
       "    }\n",
       "</style>\n",
       "<table border=\"1\" class=\"dataframe\">\n",
       "  <thead>\n",
       "    <tr style=\"text-align: right;\">\n",
       "      <th></th>\n",
       "      <th>pixel_0_0</th>\n",
       "      <th>pixel_0_1</th>\n",
       "      <th>pixel_0_2</th>\n",
       "      <th>pixel_0_3</th>\n",
       "      <th>pixel_0_4</th>\n",
       "      <th>pixel_0_5</th>\n",
       "      <th>pixel_0_6</th>\n",
       "      <th>pixel_0_7</th>\n",
       "      <th>pixel_1_0</th>\n",
       "      <th>pixel_1_1</th>\n",
       "      <th>...</th>\n",
       "      <th>pixel_6_6</th>\n",
       "      <th>pixel_6_7</th>\n",
       "      <th>pixel_7_0</th>\n",
       "      <th>pixel_7_1</th>\n",
       "      <th>pixel_7_2</th>\n",
       "      <th>pixel_7_3</th>\n",
       "      <th>pixel_7_4</th>\n",
       "      <th>pixel_7_5</th>\n",
       "      <th>pixel_7_6</th>\n",
       "      <th>pixel_7_7</th>\n",
       "    </tr>\n",
       "  </thead>\n",
       "  <tbody>\n",
       "    <tr>\n",
       "      <th>0</th>\n",
       "      <td>0.0</td>\n",
       "      <td>0.0</td>\n",
       "      <td>5.0</td>\n",
       "      <td>13.0</td>\n",
       "      <td>9.0</td>\n",
       "      <td>1.0</td>\n",
       "      <td>0.0</td>\n",
       "      <td>0.0</td>\n",
       "      <td>0.0</td>\n",
       "      <td>0.0</td>\n",
       "      <td>...</td>\n",
       "      <td>0.0</td>\n",
       "      <td>0.0</td>\n",
       "      <td>0.0</td>\n",
       "      <td>0.0</td>\n",
       "      <td>6.0</td>\n",
       "      <td>13.0</td>\n",
       "      <td>10.0</td>\n",
       "      <td>0.0</td>\n",
       "      <td>0.0</td>\n",
       "      <td>0.0</td>\n",
       "    </tr>\n",
       "    <tr>\n",
       "      <th>1</th>\n",
       "      <td>0.0</td>\n",
       "      <td>0.0</td>\n",
       "      <td>0.0</td>\n",
       "      <td>12.0</td>\n",
       "      <td>13.0</td>\n",
       "      <td>5.0</td>\n",
       "      <td>0.0</td>\n",
       "      <td>0.0</td>\n",
       "      <td>0.0</td>\n",
       "      <td>0.0</td>\n",
       "      <td>...</td>\n",
       "      <td>0.0</td>\n",
       "      <td>0.0</td>\n",
       "      <td>0.0</td>\n",
       "      <td>0.0</td>\n",
       "      <td>0.0</td>\n",
       "      <td>11.0</td>\n",
       "      <td>16.0</td>\n",
       "      <td>10.0</td>\n",
       "      <td>0.0</td>\n",
       "      <td>0.0</td>\n",
       "    </tr>\n",
       "    <tr>\n",
       "      <th>2</th>\n",
       "      <td>0.0</td>\n",
       "      <td>0.0</td>\n",
       "      <td>0.0</td>\n",
       "      <td>4.0</td>\n",
       "      <td>15.0</td>\n",
       "      <td>12.0</td>\n",
       "      <td>0.0</td>\n",
       "      <td>0.0</td>\n",
       "      <td>0.0</td>\n",
       "      <td>0.0</td>\n",
       "      <td>...</td>\n",
       "      <td>5.0</td>\n",
       "      <td>0.0</td>\n",
       "      <td>0.0</td>\n",
       "      <td>0.0</td>\n",
       "      <td>0.0</td>\n",
       "      <td>3.0</td>\n",
       "      <td>11.0</td>\n",
       "      <td>16.0</td>\n",
       "      <td>9.0</td>\n",
       "      <td>0.0</td>\n",
       "    </tr>\n",
       "    <tr>\n",
       "      <th>3</th>\n",
       "      <td>0.0</td>\n",
       "      <td>0.0</td>\n",
       "      <td>7.0</td>\n",
       "      <td>15.0</td>\n",
       "      <td>13.0</td>\n",
       "      <td>1.0</td>\n",
       "      <td>0.0</td>\n",
       "      <td>0.0</td>\n",
       "      <td>0.0</td>\n",
       "      <td>8.0</td>\n",
       "      <td>...</td>\n",
       "      <td>9.0</td>\n",
       "      <td>0.0</td>\n",
       "      <td>0.0</td>\n",
       "      <td>0.0</td>\n",
       "      <td>7.0</td>\n",
       "      <td>13.0</td>\n",
       "      <td>13.0</td>\n",
       "      <td>9.0</td>\n",
       "      <td>0.0</td>\n",
       "      <td>0.0</td>\n",
       "    </tr>\n",
       "    <tr>\n",
       "      <th>4</th>\n",
       "      <td>0.0</td>\n",
       "      <td>0.0</td>\n",
       "      <td>0.0</td>\n",
       "      <td>1.0</td>\n",
       "      <td>11.0</td>\n",
       "      <td>0.0</td>\n",
       "      <td>0.0</td>\n",
       "      <td>0.0</td>\n",
       "      <td>0.0</td>\n",
       "      <td>0.0</td>\n",
       "      <td>...</td>\n",
       "      <td>0.0</td>\n",
       "      <td>0.0</td>\n",
       "      <td>0.0</td>\n",
       "      <td>0.0</td>\n",
       "      <td>0.0</td>\n",
       "      <td>2.0</td>\n",
       "      <td>16.0</td>\n",
       "      <td>4.0</td>\n",
       "      <td>0.0</td>\n",
       "      <td>0.0</td>\n",
       "    </tr>\n",
       "  </tbody>\n",
       "</table>\n",
       "<p>5 rows × 64 columns</p>\n",
       "</div>"
      ],
      "text/plain": [
       "   pixel_0_0  pixel_0_1  pixel_0_2  pixel_0_3  pixel_0_4  pixel_0_5  \\\n",
       "0        0.0        0.0        5.0       13.0        9.0        1.0   \n",
       "1        0.0        0.0        0.0       12.0       13.0        5.0   \n",
       "2        0.0        0.0        0.0        4.0       15.0       12.0   \n",
       "3        0.0        0.0        7.0       15.0       13.0        1.0   \n",
       "4        0.0        0.0        0.0        1.0       11.0        0.0   \n",
       "\n",
       "   pixel_0_6  pixel_0_7  pixel_1_0  pixel_1_1  ...  pixel_6_6  pixel_6_7  \\\n",
       "0        0.0        0.0        0.0        0.0  ...        0.0        0.0   \n",
       "1        0.0        0.0        0.0        0.0  ...        0.0        0.0   \n",
       "2        0.0        0.0        0.0        0.0  ...        5.0        0.0   \n",
       "3        0.0        0.0        0.0        8.0  ...        9.0        0.0   \n",
       "4        0.0        0.0        0.0        0.0  ...        0.0        0.0   \n",
       "\n",
       "   pixel_7_0  pixel_7_1  pixel_7_2  pixel_7_3  pixel_7_4  pixel_7_5  \\\n",
       "0        0.0        0.0        6.0       13.0       10.0        0.0   \n",
       "1        0.0        0.0        0.0       11.0       16.0       10.0   \n",
       "2        0.0        0.0        0.0        3.0       11.0       16.0   \n",
       "3        0.0        0.0        7.0       13.0       13.0        9.0   \n",
       "4        0.0        0.0        0.0        2.0       16.0        4.0   \n",
       "\n",
       "   pixel_7_6  pixel_7_7  \n",
       "0        0.0        0.0  \n",
       "1        0.0        0.0  \n",
       "2        9.0        0.0  \n",
       "3        0.0        0.0  \n",
       "4        0.0        0.0  \n",
       "\n",
       "[5 rows x 64 columns]"
      ]
     },
     "execution_count": 8,
     "metadata": {},
     "output_type": "execute_result"
    }
   ],
   "source": [
    "df.head()"
   ]
  },
  {
   "cell_type": "code",
   "execution_count": 9,
   "id": "ba3fc827",
   "metadata": {},
   "outputs": [
    {
     "data": {
      "text/plain": [
       "array([0, 1, 2, ..., 8, 9, 8])"
      ]
     },
     "execution_count": 9,
     "metadata": {},
     "output_type": "execute_result"
    }
   ],
   "source": [
    "digits.target"
   ]
  },
  {
   "cell_type": "code",
   "execution_count": 10,
   "id": "674cf33f",
   "metadata": {},
   "outputs": [],
   "source": [
    "d = {\"a\" : 12,\"b\": 48}"
   ]
  },
  {
   "cell_type": "code",
   "execution_count": 11,
   "id": "bed2b480",
   "metadata": {},
   "outputs": [],
   "source": [
    "d[\"c\"] = 48"
   ]
  },
  {
   "cell_type": "code",
   "execution_count": 12,
   "id": "ea23b4dc",
   "metadata": {},
   "outputs": [
    {
     "data": {
      "text/plain": [
       "{'a': 12, 'b': 48, 'c': 48}"
      ]
     },
     "execution_count": 12,
     "metadata": {},
     "output_type": "execute_result"
    }
   ],
   "source": [
    "d"
   ]
  },
  {
   "cell_type": "code",
   "execution_count": 13,
   "id": "e31120f2",
   "metadata": {},
   "outputs": [],
   "source": [
    "df['target'] = digits.target"
   ]
  },
  {
   "cell_type": "code",
   "execution_count": 14,
   "id": "023003c8",
   "metadata": {},
   "outputs": [
    {
     "data": {
      "text/html": [
       "<div>\n",
       "<style scoped>\n",
       "    .dataframe tbody tr th:only-of-type {\n",
       "        vertical-align: middle;\n",
       "    }\n",
       "\n",
       "    .dataframe tbody tr th {\n",
       "        vertical-align: top;\n",
       "    }\n",
       "\n",
       "    .dataframe thead th {\n",
       "        text-align: right;\n",
       "    }\n",
       "</style>\n",
       "<table border=\"1\" class=\"dataframe\">\n",
       "  <thead>\n",
       "    <tr style=\"text-align: right;\">\n",
       "      <th></th>\n",
       "      <th>pixel_0_0</th>\n",
       "      <th>pixel_0_1</th>\n",
       "      <th>pixel_0_2</th>\n",
       "      <th>pixel_0_3</th>\n",
       "      <th>pixel_0_4</th>\n",
       "      <th>pixel_0_5</th>\n",
       "      <th>pixel_0_6</th>\n",
       "      <th>pixel_0_7</th>\n",
       "      <th>pixel_1_0</th>\n",
       "      <th>pixel_1_1</th>\n",
       "      <th>...</th>\n",
       "      <th>pixel_6_7</th>\n",
       "      <th>pixel_7_0</th>\n",
       "      <th>pixel_7_1</th>\n",
       "      <th>pixel_7_2</th>\n",
       "      <th>pixel_7_3</th>\n",
       "      <th>pixel_7_4</th>\n",
       "      <th>pixel_7_5</th>\n",
       "      <th>pixel_7_6</th>\n",
       "      <th>pixel_7_7</th>\n",
       "      <th>target</th>\n",
       "    </tr>\n",
       "  </thead>\n",
       "  <tbody>\n",
       "    <tr>\n",
       "      <th>0</th>\n",
       "      <td>0.0</td>\n",
       "      <td>0.0</td>\n",
       "      <td>5.0</td>\n",
       "      <td>13.0</td>\n",
       "      <td>9.0</td>\n",
       "      <td>1.0</td>\n",
       "      <td>0.0</td>\n",
       "      <td>0.0</td>\n",
       "      <td>0.0</td>\n",
       "      <td>0.0</td>\n",
       "      <td>...</td>\n",
       "      <td>0.0</td>\n",
       "      <td>0.0</td>\n",
       "      <td>0.0</td>\n",
       "      <td>6.0</td>\n",
       "      <td>13.0</td>\n",
       "      <td>10.0</td>\n",
       "      <td>0.0</td>\n",
       "      <td>0.0</td>\n",
       "      <td>0.0</td>\n",
       "      <td>0</td>\n",
       "    </tr>\n",
       "    <tr>\n",
       "      <th>1</th>\n",
       "      <td>0.0</td>\n",
       "      <td>0.0</td>\n",
       "      <td>0.0</td>\n",
       "      <td>12.0</td>\n",
       "      <td>13.0</td>\n",
       "      <td>5.0</td>\n",
       "      <td>0.0</td>\n",
       "      <td>0.0</td>\n",
       "      <td>0.0</td>\n",
       "      <td>0.0</td>\n",
       "      <td>...</td>\n",
       "      <td>0.0</td>\n",
       "      <td>0.0</td>\n",
       "      <td>0.0</td>\n",
       "      <td>0.0</td>\n",
       "      <td>11.0</td>\n",
       "      <td>16.0</td>\n",
       "      <td>10.0</td>\n",
       "      <td>0.0</td>\n",
       "      <td>0.0</td>\n",
       "      <td>1</td>\n",
       "    </tr>\n",
       "    <tr>\n",
       "      <th>2</th>\n",
       "      <td>0.0</td>\n",
       "      <td>0.0</td>\n",
       "      <td>0.0</td>\n",
       "      <td>4.0</td>\n",
       "      <td>15.0</td>\n",
       "      <td>12.0</td>\n",
       "      <td>0.0</td>\n",
       "      <td>0.0</td>\n",
       "      <td>0.0</td>\n",
       "      <td>0.0</td>\n",
       "      <td>...</td>\n",
       "      <td>0.0</td>\n",
       "      <td>0.0</td>\n",
       "      <td>0.0</td>\n",
       "      <td>0.0</td>\n",
       "      <td>3.0</td>\n",
       "      <td>11.0</td>\n",
       "      <td>16.0</td>\n",
       "      <td>9.0</td>\n",
       "      <td>0.0</td>\n",
       "      <td>2</td>\n",
       "    </tr>\n",
       "    <tr>\n",
       "      <th>3</th>\n",
       "      <td>0.0</td>\n",
       "      <td>0.0</td>\n",
       "      <td>7.0</td>\n",
       "      <td>15.0</td>\n",
       "      <td>13.0</td>\n",
       "      <td>1.0</td>\n",
       "      <td>0.0</td>\n",
       "      <td>0.0</td>\n",
       "      <td>0.0</td>\n",
       "      <td>8.0</td>\n",
       "      <td>...</td>\n",
       "      <td>0.0</td>\n",
       "      <td>0.0</td>\n",
       "      <td>0.0</td>\n",
       "      <td>7.0</td>\n",
       "      <td>13.0</td>\n",
       "      <td>13.0</td>\n",
       "      <td>9.0</td>\n",
       "      <td>0.0</td>\n",
       "      <td>0.0</td>\n",
       "      <td>3</td>\n",
       "    </tr>\n",
       "    <tr>\n",
       "      <th>4</th>\n",
       "      <td>0.0</td>\n",
       "      <td>0.0</td>\n",
       "      <td>0.0</td>\n",
       "      <td>1.0</td>\n",
       "      <td>11.0</td>\n",
       "      <td>0.0</td>\n",
       "      <td>0.0</td>\n",
       "      <td>0.0</td>\n",
       "      <td>0.0</td>\n",
       "      <td>0.0</td>\n",
       "      <td>...</td>\n",
       "      <td>0.0</td>\n",
       "      <td>0.0</td>\n",
       "      <td>0.0</td>\n",
       "      <td>0.0</td>\n",
       "      <td>2.0</td>\n",
       "      <td>16.0</td>\n",
       "      <td>4.0</td>\n",
       "      <td>0.0</td>\n",
       "      <td>0.0</td>\n",
       "      <td>4</td>\n",
       "    </tr>\n",
       "  </tbody>\n",
       "</table>\n",
       "<p>5 rows × 65 columns</p>\n",
       "</div>"
      ],
      "text/plain": [
       "   pixel_0_0  pixel_0_1  pixel_0_2  pixel_0_3  pixel_0_4  pixel_0_5  \\\n",
       "0        0.0        0.0        5.0       13.0        9.0        1.0   \n",
       "1        0.0        0.0        0.0       12.0       13.0        5.0   \n",
       "2        0.0        0.0        0.0        4.0       15.0       12.0   \n",
       "3        0.0        0.0        7.0       15.0       13.0        1.0   \n",
       "4        0.0        0.0        0.0        1.0       11.0        0.0   \n",
       "\n",
       "   pixel_0_6  pixel_0_7  pixel_1_0  pixel_1_1  ...  pixel_6_7  pixel_7_0  \\\n",
       "0        0.0        0.0        0.0        0.0  ...        0.0        0.0   \n",
       "1        0.0        0.0        0.0        0.0  ...        0.0        0.0   \n",
       "2        0.0        0.0        0.0        0.0  ...        0.0        0.0   \n",
       "3        0.0        0.0        0.0        8.0  ...        0.0        0.0   \n",
       "4        0.0        0.0        0.0        0.0  ...        0.0        0.0   \n",
       "\n",
       "   pixel_7_1  pixel_7_2  pixel_7_3  pixel_7_4  pixel_7_5  pixel_7_6  \\\n",
       "0        0.0        6.0       13.0       10.0        0.0        0.0   \n",
       "1        0.0        0.0       11.0       16.0       10.0        0.0   \n",
       "2        0.0        0.0        3.0       11.0       16.0        9.0   \n",
       "3        0.0        7.0       13.0       13.0        9.0        0.0   \n",
       "4        0.0        0.0        2.0       16.0        4.0        0.0   \n",
       "\n",
       "   pixel_7_7  target  \n",
       "0        0.0       0  \n",
       "1        0.0       1  \n",
       "2        0.0       2  \n",
       "3        0.0       3  \n",
       "4        0.0       4  \n",
       "\n",
       "[5 rows x 65 columns]"
      ]
     },
     "execution_count": 14,
     "metadata": {},
     "output_type": "execute_result"
    }
   ],
   "source": [
    "df.head()"
   ]
  },
  {
   "cell_type": "code",
   "execution_count": 15,
   "id": "21bfb1ca",
   "metadata": {},
   "outputs": [
    {
     "data": {
      "text/plain": [
       "(1797, 65)"
      ]
     },
     "execution_count": 15,
     "metadata": {},
     "output_type": "execute_result"
    }
   ],
   "source": [
    "df.shape"
   ]
  },
  {
   "cell_type": "code",
   "execution_count": 16,
   "id": "7d4e7b1b",
   "metadata": {},
   "outputs": [
    {
     "name": "stdout",
     "output_type": "stream",
     "text": [
      "<class 'pandas.core.frame.DataFrame'>\n",
      "RangeIndex: 1797 entries, 0 to 1796\n",
      "Data columns (total 65 columns):\n",
      " #   Column     Non-Null Count  Dtype  \n",
      "---  ------     --------------  -----  \n",
      " 0   pixel_0_0  1797 non-null   float64\n",
      " 1   pixel_0_1  1797 non-null   float64\n",
      " 2   pixel_0_2  1797 non-null   float64\n",
      " 3   pixel_0_3  1797 non-null   float64\n",
      " 4   pixel_0_4  1797 non-null   float64\n",
      " 5   pixel_0_5  1797 non-null   float64\n",
      " 6   pixel_0_6  1797 non-null   float64\n",
      " 7   pixel_0_7  1797 non-null   float64\n",
      " 8   pixel_1_0  1797 non-null   float64\n",
      " 9   pixel_1_1  1797 non-null   float64\n",
      " 10  pixel_1_2  1797 non-null   float64\n",
      " 11  pixel_1_3  1797 non-null   float64\n",
      " 12  pixel_1_4  1797 non-null   float64\n",
      " 13  pixel_1_5  1797 non-null   float64\n",
      " 14  pixel_1_6  1797 non-null   float64\n",
      " 15  pixel_1_7  1797 non-null   float64\n",
      " 16  pixel_2_0  1797 non-null   float64\n",
      " 17  pixel_2_1  1797 non-null   float64\n",
      " 18  pixel_2_2  1797 non-null   float64\n",
      " 19  pixel_2_3  1797 non-null   float64\n",
      " 20  pixel_2_4  1797 non-null   float64\n",
      " 21  pixel_2_5  1797 non-null   float64\n",
      " 22  pixel_2_6  1797 non-null   float64\n",
      " 23  pixel_2_7  1797 non-null   float64\n",
      " 24  pixel_3_0  1797 non-null   float64\n",
      " 25  pixel_3_1  1797 non-null   float64\n",
      " 26  pixel_3_2  1797 non-null   float64\n",
      " 27  pixel_3_3  1797 non-null   float64\n",
      " 28  pixel_3_4  1797 non-null   float64\n",
      " 29  pixel_3_5  1797 non-null   float64\n",
      " 30  pixel_3_6  1797 non-null   float64\n",
      " 31  pixel_3_7  1797 non-null   float64\n",
      " 32  pixel_4_0  1797 non-null   float64\n",
      " 33  pixel_4_1  1797 non-null   float64\n",
      " 34  pixel_4_2  1797 non-null   float64\n",
      " 35  pixel_4_3  1797 non-null   float64\n",
      " 36  pixel_4_4  1797 non-null   float64\n",
      " 37  pixel_4_5  1797 non-null   float64\n",
      " 38  pixel_4_6  1797 non-null   float64\n",
      " 39  pixel_4_7  1797 non-null   float64\n",
      " 40  pixel_5_0  1797 non-null   float64\n",
      " 41  pixel_5_1  1797 non-null   float64\n",
      " 42  pixel_5_2  1797 non-null   float64\n",
      " 43  pixel_5_3  1797 non-null   float64\n",
      " 44  pixel_5_4  1797 non-null   float64\n",
      " 45  pixel_5_5  1797 non-null   float64\n",
      " 46  pixel_5_6  1797 non-null   float64\n",
      " 47  pixel_5_7  1797 non-null   float64\n",
      " 48  pixel_6_0  1797 non-null   float64\n",
      " 49  pixel_6_1  1797 non-null   float64\n",
      " 50  pixel_6_2  1797 non-null   float64\n",
      " 51  pixel_6_3  1797 non-null   float64\n",
      " 52  pixel_6_4  1797 non-null   float64\n",
      " 53  pixel_6_5  1797 non-null   float64\n",
      " 54  pixel_6_6  1797 non-null   float64\n",
      " 55  pixel_6_7  1797 non-null   float64\n",
      " 56  pixel_7_0  1797 non-null   float64\n",
      " 57  pixel_7_1  1797 non-null   float64\n",
      " 58  pixel_7_2  1797 non-null   float64\n",
      " 59  pixel_7_3  1797 non-null   float64\n",
      " 60  pixel_7_4  1797 non-null   float64\n",
      " 61  pixel_7_5  1797 non-null   float64\n",
      " 62  pixel_7_6  1797 non-null   float64\n",
      " 63  pixel_7_7  1797 non-null   float64\n",
      " 64  target     1797 non-null   int32  \n",
      "dtypes: float64(64), int32(1)\n",
      "memory usage: 905.6 KB\n"
     ]
    }
   ],
   "source": [
    "df.info()"
   ]
  },
  {
   "cell_type": "code",
   "execution_count": 17,
   "id": "42ab7bd0",
   "metadata": {},
   "outputs": [
    {
     "data": {
      "text/plain": [
       "pixel_0_0    0\n",
       "pixel_0_1    0\n",
       "pixel_0_2    0\n",
       "pixel_0_3    0\n",
       "pixel_0_4    0\n",
       "            ..\n",
       "pixel_7_4    0\n",
       "pixel_7_5    0\n",
       "pixel_7_6    0\n",
       "pixel_7_7    0\n",
       "target       0\n",
       "Length: 65, dtype: int64"
      ]
     },
     "execution_count": 17,
     "metadata": {},
     "output_type": "execute_result"
    }
   ],
   "source": [
    "df.isnull().sum()"
   ]
  },
  {
   "cell_type": "code",
   "execution_count": 18,
   "id": "c2542106",
   "metadata": {},
   "outputs": [],
   "source": [
    "s = digits.images[0]"
   ]
  },
  {
   "cell_type": "code",
   "execution_count": 19,
   "id": "2d5f3d97",
   "metadata": {},
   "outputs": [
    {
     "data": {
      "text/plain": [
       "array([[ 0.,  0.,  5., 13.,  9.,  1.,  0.,  0.],\n",
       "       [ 0.,  0., 13., 15., 10., 15.,  5.,  0.],\n",
       "       [ 0.,  3., 15.,  2.,  0., 11.,  8.,  0.],\n",
       "       [ 0.,  4., 12.,  0.,  0.,  8.,  8.,  0.],\n",
       "       [ 0.,  5.,  8.,  0.,  0.,  9.,  8.,  0.],\n",
       "       [ 0.,  4., 11.,  0.,  1., 12.,  7.,  0.],\n",
       "       [ 0.,  2., 14.,  5., 10., 12.,  0.,  0.],\n",
       "       [ 0.,  0.,  6., 13., 10.,  0.,  0.,  0.]])"
      ]
     },
     "execution_count": 19,
     "metadata": {},
     "output_type": "execute_result"
    }
   ],
   "source": [
    "s"
   ]
  },
  {
   "cell_type": "code",
   "execution_count": 20,
   "id": "c35f2ce5",
   "metadata": {},
   "outputs": [
    {
     "data": {
      "text/plain": [
       "array([ 0.,  0.,  5., 13.,  9.,  1.,  0.,  0.,  0.,  0., 13., 15., 10.,\n",
       "       15.,  5.,  0.,  0.,  3., 15.,  2.,  0., 11.,  8.,  0.,  0.,  4.,\n",
       "       12.,  0.,  0.,  8.,  8.,  0.,  0.,  5.,  8.,  0.,  0.,  9.,  8.,\n",
       "        0.,  0.,  4., 11.,  0.,  1., 12.,  7.,  0.,  0.,  2., 14.,  5.,\n",
       "       10., 12.,  0.,  0.,  0.,  0.,  6., 13., 10.,  0.,  0.,  0.])"
      ]
     },
     "execution_count": 20,
     "metadata": {},
     "output_type": "execute_result"
    }
   ],
   "source": [
    "digits.data[0]"
   ]
  },
  {
   "cell_type": "code",
   "execution_count": 21,
   "id": "16d8c06c",
   "metadata": {},
   "outputs": [
    {
     "data": {
      "text/plain": [
       "<Figure size 432x288 with 0 Axes>"
      ]
     },
     "metadata": {},
     "output_type": "display_data"
    },
    {
     "data": {
      "image/png": "[encoded data removed]",
      "text/plain": [
       "<Figure size 288x288 with 1 Axes>"
      ]
     },
     "metadata": {
      "needs_background": "light"
     },
     "output_type": "display_data"
    }
   ],
   "source": [
    "plt.gray()\n",
    "plt.matshow(s)\n",
    "plt.show()"
   ]
  },
  {
   "cell_type": "code",
   "execution_count": 22,
   "id": "f67b4bf8",
   "metadata": {},
   "outputs": [
    {
     "data": {
      "text/plain": [
       "<Figure size 432x288 with 0 Axes>"
      ]
     },
     "metadata": {},
     "output_type": "display_data"
    },
    {
     "data": {
      "image/png": "[encoded data removed]",
      "text/plain": [
       "<Figure size 288x288 with 1 Axes>"
      ]
     },
     "metadata": {
      "needs_background": "light"
     },
     "output_type": "display_data"
    },
    {
     "data": {
      "image/png": "[encoded data removed]",
      "text/plain": [
       "<Figure size 288x288 with 1 Axes>"
      ]
     },
     "metadata": {
      "needs_background": "light"
     },
     "output_type": "display_data"
    },
    {
     "data": {
      "image/png": "[encoded data removed]",
      "text/plain": [
       "<Figure size 288x288 with 1 Axes>"
      ]
     },
     "metadata": {
      "needs_background": "light"
     },
     "output_type": "display_data"
    },
    {
     "data": {
      "image/png": "[encoded data removed]",
      "text/plain": [
       "<Figure size 288x288 with 1 Axes>"
      ]
     },
     "metadata": {
      "needs_background": "light"
     },
     "output_type": "display_data"
    },
    {
     "data": {
      "image/png": "[encoded data removed]",
      "text/plain": [
       "<Figure size 288x288 with 1 Axes>"
      ]
     },
     "metadata": {
      "needs_background": "light"
     },
     "output_type": "display_data"
    }
   ],
   "source": [
    "# first 5 show\n",
    "plt.gray()\n",
    "for i in range(5):\n",
    "    plt.matshow(digits.images[i])\n",
    "    plt.show()"
   ]
  },
  {
   "cell_type": "code",
   "execution_count": 23,
   "id": "1344332b",
   "metadata": {
    "scrolled": true
   },
   "outputs": [
    {
     "data": {
      "text/plain": [
       "<matplotlib.image.AxesImage at 0x2ca11a95c40>"
      ]
     },
     "execution_count": 23,
     "metadata": {},
     "output_type": "execute_result"
    },
    {
     "data": {
      "image/png": "[encoded data removed]",
      "text/plain": [
       "<Figure size 288x288 with 1 Axes>"
      ]
     },
     "metadata": {
      "needs_background": "light"
     },
     "output_type": "display_data"
    }
   ],
   "source": [
    "plt.matshow(digits.images[45])"
   ]
  },
  {
   "cell_type": "code",
   "execution_count": 24,
   "id": "93f86716",
   "metadata": {},
   "outputs": [
    {
     "data": {
      "text/plain": [
       "<matplotlib.image.AxesImage at 0x2ca11bfb940>"
      ]
     },
     "execution_count": 24,
     "metadata": {},
     "output_type": "execute_result"
    },
    {
     "data": {
      "image/png": "[encoded data removed]",
      "text/plain": [
       "<Figure size 288x288 with 1 Axes>"
      ]
     },
     "metadata": {
      "needs_background": "light"
     },
     "output_type": "display_data"
    }
   ],
   "source": [
    "plt.matshow(digits.images[16])"
   ]
  },
  {
   "cell_type": "code",
   "execution_count": 25,
   "id": "7f49f78c",
   "metadata": {},
   "outputs": [
    {
     "data": {
      "text/plain": [
       "3"
      ]
     },
     "execution_count": 25,
     "metadata": {},
     "output_type": "execute_result"
    }
   ],
   "source": [
    "digits.target[45]"
   ]
  },
  {
   "cell_type": "code",
   "execution_count": 26,
   "id": "bb19958a",
   "metadata": {},
   "outputs": [],
   "source": [
    "X = df.drop(\"target\",axis=1)"
   ]
  },
  {
   "cell_type": "code",
   "execution_count": 27,
   "id": "87ffdfd3",
   "metadata": {},
   "outputs": [],
   "source": [
    "y = df.target"
   ]
  },
  {
   "cell_type": "code",
   "execution_count": 28,
   "id": "bdc52db8",
   "metadata": {},
   "outputs": [],
   "source": [
    "from sklearn.model_selection import train_test_split"
   ]
  },
  {
   "cell_type": "code",
   "execution_count": 29,
   "id": "b129c81f",
   "metadata": {},
   "outputs": [],
   "source": [
    " X_train, X_test, y_train, y_test = train_test_split(X, y, test_size=0.20, random_state=42)"
   ]
  },
  {
   "cell_type": "code",
   "execution_count": 30,
   "id": "64a03736",
   "metadata": {},
   "outputs": [
    {
     "data": {
      "text/plain": [
       "(1437, 64)"
      ]
     },
     "execution_count": 30,
     "metadata": {},
     "output_type": "execute_result"
    }
   ],
   "source": [
    "X_train.shape"
   ]
  },
  {
   "cell_type": "code",
   "execution_count": 31,
   "id": "f0c98eff",
   "metadata": {},
   "outputs": [
    {
     "data": {
      "text/plain": [
       "(360, 64)"
      ]
     },
     "execution_count": 31,
     "metadata": {},
     "output_type": "execute_result"
    }
   ],
   "source": [
    "X_test.shape"
   ]
  },
  {
   "cell_type": "code",
   "execution_count": 32,
   "id": "1134facb",
   "metadata": {},
   "outputs": [
    {
     "data": {
      "text/plain": [
       "1245    6\n",
       "220     9\n",
       "1518    3\n",
       "438     7\n",
       "1270    2\n",
       "       ..\n",
       "1731    4\n",
       "1630    3\n",
       "1037    8\n",
       "965     3\n",
       "1461    5\n",
       "Name: target, Length: 360, dtype: int32"
      ]
     },
     "execution_count": 32,
     "metadata": {},
     "output_type": "execute_result"
    }
   ],
   "source": [
    "y_test"
   ]
  },
  {
   "cell_type": "code",
   "execution_count": 33,
   "id": "082f3530",
   "metadata": {},
   "outputs": [],
   "source": [
    "model = LogisticRegression(max_iter=2000)"
   ]
  },
  {
   "cell_type": "code",
   "execution_count": 34,
   "id": "aa83c6fd",
   "metadata": {},
   "outputs": [
    {
     "data": {
      "text/plain": [
       "LogisticRegression(max_iter=2000)"
      ]
     },
     "execution_count": 34,
     "metadata": {},
     "output_type": "execute_result"
    }
   ],
   "source": [
    "model.fit(X_train,y_train)"
   ]
  },
  {
   "cell_type": "code",
   "execution_count": 35,
   "id": "d27cca71",
   "metadata": {},
   "outputs": [
    {
     "data": {
      "text/plain": [
       "0.9722222222222222"
      ]
     },
     "execution_count": 35,
     "metadata": {},
     "output_type": "execute_result"
    }
   ],
   "source": [
    "model.score(X_test,y_test)"
   ]
  },
  {
   "cell_type": "code",
   "execution_count": 36,
   "id": "e29e9412",
   "metadata": {},
   "outputs": [
    {
     "data": {
      "text/html": [
       "<div>\n",
       "<style scoped>\n",
       "    .dataframe tbody tr th:only-of-type {\n",
       "        vertical-align: middle;\n",
       "    }\n",
       "\n",
       "    .dataframe tbody tr th {\n",
       "        vertical-align: top;\n",
       "    }\n",
       "\n",
       "    .dataframe thead th {\n",
       "        text-align: right;\n",
       "    }\n",
       "</style>\n",
       "<table border=\"1\" class=\"dataframe\">\n",
       "  <thead>\n",
       "    <tr style=\"text-align: right;\">\n",
       "      <th></th>\n",
       "      <th>pixel_0_0</th>\n",
       "      <th>pixel_0_1</th>\n",
       "      <th>pixel_0_2</th>\n",
       "      <th>pixel_0_3</th>\n",
       "      <th>pixel_0_4</th>\n",
       "      <th>pixel_0_5</th>\n",
       "      <th>pixel_0_6</th>\n",
       "      <th>pixel_0_7</th>\n",
       "      <th>pixel_1_0</th>\n",
       "      <th>pixel_1_1</th>\n",
       "      <th>...</th>\n",
       "      <th>pixel_6_6</th>\n",
       "      <th>pixel_6_7</th>\n",
       "      <th>pixel_7_0</th>\n",
       "      <th>pixel_7_1</th>\n",
       "      <th>pixel_7_2</th>\n",
       "      <th>pixel_7_3</th>\n",
       "      <th>pixel_7_4</th>\n",
       "      <th>pixel_7_5</th>\n",
       "      <th>pixel_7_6</th>\n",
       "      <th>pixel_7_7</th>\n",
       "    </tr>\n",
       "  </thead>\n",
       "  <tbody>\n",
       "    <tr>\n",
       "      <th>1245</th>\n",
       "      <td>0.0</td>\n",
       "      <td>0.0</td>\n",
       "      <td>0.0</td>\n",
       "      <td>7.0</td>\n",
       "      <td>12.0</td>\n",
       "      <td>0.0</td>\n",
       "      <td>0.0</td>\n",
       "      <td>0.0</td>\n",
       "      <td>0.0</td>\n",
       "      <td>0.0</td>\n",
       "      <td>...</td>\n",
       "      <td>16.0</td>\n",
       "      <td>2.0</td>\n",
       "      <td>0.0</td>\n",
       "      <td>0.0</td>\n",
       "      <td>0.0</td>\n",
       "      <td>9.0</td>\n",
       "      <td>14.0</td>\n",
       "      <td>14.0</td>\n",
       "      <td>5.0</td>\n",
       "      <td>0.0</td>\n",
       "    </tr>\n",
       "    <tr>\n",
       "      <th>220</th>\n",
       "      <td>0.0</td>\n",
       "      <td>0.0</td>\n",
       "      <td>11.0</td>\n",
       "      <td>16.0</td>\n",
       "      <td>8.0</td>\n",
       "      <td>0.0</td>\n",
       "      <td>0.0</td>\n",
       "      <td>0.0</td>\n",
       "      <td>0.0</td>\n",
       "      <td>6.0</td>\n",
       "      <td>...</td>\n",
       "      <td>0.0</td>\n",
       "      <td>0.0</td>\n",
       "      <td>0.0</td>\n",
       "      <td>0.0</td>\n",
       "      <td>13.0</td>\n",
       "      <td>16.0</td>\n",
       "      <td>11.0</td>\n",
       "      <td>1.0</td>\n",
       "      <td>0.0</td>\n",
       "      <td>0.0</td>\n",
       "    </tr>\n",
       "    <tr>\n",
       "      <th>1518</th>\n",
       "      <td>0.0</td>\n",
       "      <td>0.0</td>\n",
       "      <td>8.0</td>\n",
       "      <td>15.0</td>\n",
       "      <td>12.0</td>\n",
       "      <td>4.0</td>\n",
       "      <td>0.0</td>\n",
       "      <td>0.0</td>\n",
       "      <td>0.0</td>\n",
       "      <td>5.0</td>\n",
       "      <td>...</td>\n",
       "      <td>7.0</td>\n",
       "      <td>0.0</td>\n",
       "      <td>0.0</td>\n",
       "      <td>0.0</td>\n",
       "      <td>13.0</td>\n",
       "      <td>16.0</td>\n",
       "      <td>15.0</td>\n",
       "      <td>8.0</td>\n",
       "      <td>0.0</td>\n",
       "      <td>0.0</td>\n",
       "    </tr>\n",
       "    <tr>\n",
       "      <th>438</th>\n",
       "      <td>0.0</td>\n",
       "      <td>0.0</td>\n",
       "      <td>2.0</td>\n",
       "      <td>12.0</td>\n",
       "      <td>12.0</td>\n",
       "      <td>12.0</td>\n",
       "      <td>9.0</td>\n",
       "      <td>2.0</td>\n",
       "      <td>0.0</td>\n",
       "      <td>0.0</td>\n",
       "      <td>...</td>\n",
       "      <td>0.0</td>\n",
       "      <td>0.0</td>\n",
       "      <td>0.0</td>\n",
       "      <td>0.0</td>\n",
       "      <td>3.0</td>\n",
       "      <td>15.0</td>\n",
       "      <td>3.0</td>\n",
       "      <td>0.0</td>\n",
       "      <td>0.0</td>\n",
       "      <td>0.0</td>\n",
       "    </tr>\n",
       "    <tr>\n",
       "      <th>1270</th>\n",
       "      <td>0.0</td>\n",
       "      <td>2.0</td>\n",
       "      <td>13.0</td>\n",
       "      <td>16.0</td>\n",
       "      <td>10.0</td>\n",
       "      <td>0.0</td>\n",
       "      <td>0.0</td>\n",
       "      <td>0.0</td>\n",
       "      <td>0.0</td>\n",
       "      <td>6.0</td>\n",
       "      <td>...</td>\n",
       "      <td>14.0</td>\n",
       "      <td>0.0</td>\n",
       "      <td>0.0</td>\n",
       "      <td>3.0</td>\n",
       "      <td>15.0</td>\n",
       "      <td>16.0</td>\n",
       "      <td>16.0</td>\n",
       "      <td>10.0</td>\n",
       "      <td>1.0</td>\n",
       "      <td>0.0</td>\n",
       "    </tr>\n",
       "  </tbody>\n",
       "</table>\n",
       "<p>5 rows × 64 columns</p>\n",
       "</div>"
      ],
      "text/plain": [
       "      pixel_0_0  pixel_0_1  pixel_0_2  pixel_0_3  pixel_0_4  pixel_0_5  \\\n",
       "1245        0.0        0.0        0.0        7.0       12.0        0.0   \n",
       "220         0.0        0.0       11.0       16.0        8.0        0.0   \n",
       "1518        0.0        0.0        8.0       15.0       12.0        4.0   \n",
       "438         0.0        0.0        2.0       12.0       12.0       12.0   \n",
       "1270        0.0        2.0       13.0       16.0       10.0        0.0   \n",
       "\n",
       "      pixel_0_6  pixel_0_7  pixel_1_0  pixel_1_1  ...  pixel_6_6  pixel_6_7  \\\n",
       "1245        0.0        0.0        0.0        0.0  ...       16.0        2.0   \n",
       "220         0.0        0.0        0.0        6.0  ...        0.0        0.0   \n",
       "1518        0.0        0.0        0.0        5.0  ...        7.0        0.0   \n",
       "438         9.0        2.0        0.0        0.0  ...        0.0        0.0   \n",
       "1270        0.0        0.0        0.0        6.0  ...       14.0        0.0   \n",
       "\n",
       "      pixel_7_0  pixel_7_1  pixel_7_2  pixel_7_3  pixel_7_4  pixel_7_5  \\\n",
       "1245        0.0        0.0        0.0        9.0       14.0       14.0   \n",
       "220         0.0        0.0       13.0       16.0       11.0        1.0   \n",
       "1518        0.0        0.0       13.0       16.0       15.0        8.0   \n",
       "438         0.0        0.0        3.0       15.0        3.0        0.0   \n",
       "1270        0.0        3.0       15.0       16.0       16.0       10.0   \n",
       "\n",
       "      pixel_7_6  pixel_7_7  \n",
       "1245        5.0        0.0  \n",
       "220         0.0        0.0  \n",
       "1518        0.0        0.0  \n",
       "438         0.0        0.0  \n",
       "1270        1.0        0.0  \n",
       "\n",
       "[5 rows x 64 columns]"
      ]
     },
     "execution_count": 36,
     "metadata": {},
     "output_type": "execute_result"
    }
   ],
   "source": [
    "X_test[:5]"
   ]
  },
  {
   "cell_type": "code",
   "execution_count": 37,
   "id": "dea0c62f",
   "metadata": {},
   "outputs": [
    {
     "data": {
      "text/plain": [
       "array([[ 0.,  0.,  0.,  6., 11.,  0.,  0.,  0.],\n",
       "       [ 0.,  0.,  0., 15., 10.,  0.,  0.,  0.],\n",
       "       [ 0.,  0.,  7., 15.,  2.,  0.,  0.,  0.],\n",
       "       [ 0.,  0., 16.,  6.,  0.,  0.,  0.,  0.],\n",
       "       [ 0.,  3., 16.,  7.,  5.,  5.,  0.,  0.],\n",
       "       [ 0.,  2., 16., 13.,  9., 13., 11.,  0.],\n",
       "       [ 0.,  0.,  8., 13.,  7.,  5., 15.,  3.],\n",
       "       [ 0.,  0.,  0.,  5., 11., 13., 12.,  2.]])"
      ]
     },
     "execution_count": 37,
     "metadata": {},
     "output_type": "execute_result"
    }
   ],
   "source": [
    "digits.images[750]"
   ]
  },
  {
   "cell_type": "code",
   "execution_count": 38,
   "id": "fad16fc0",
   "metadata": {},
   "outputs": [
    {
     "data": {
      "text/plain": [
       "<matplotlib.image.AxesImage at 0x2ca1250d460>"
      ]
     },
     "execution_count": 38,
     "metadata": {},
     "output_type": "execute_result"
    },
    {
     "data": {
      "image/png": "[encoded data removed]",
      "text/plain": [
       "<Figure size 288x288 with 1 Axes>"
      ]
     },
     "metadata": {
      "needs_background": "light"
     },
     "output_type": "display_data"
    }
   ],
   "source": [
    "plt.matshow(digits.images[750])"
   ]
  },
  {
   "cell_type": "code",
   "execution_count": 39,
   "id": "ce4ad50f",
   "metadata": {},
   "outputs": [
    {
     "name": "stderr",
     "output_type": "stream",
     "text": [
      "C:\\Users\\thora\\anaconda3\\lib\\site-packages\\sklearn\\base.py:450: UserWarning: X does not have valid feature names, but LogisticRegression was fitted with feature names\n",
      "  warnings.warn(\n"
     ]
    },
    {
     "data": {
      "text/plain": [
       "array([6])"
      ]
     },
     "execution_count": 39,
     "metadata": {},
     "output_type": "execute_result"
    }
   ],
   "source": [
    "model.predict(digits.data[750].reshape(1,-1))"
   ]
  },
  {
   "cell_type": "code",
   "execution_count": 40,
   "id": "f40a43d0",
   "metadata": {},
   "outputs": [],
   "source": [
    "y_pred = model.predict(X_test)"
   ]
  },
  {
   "cell_type": "code",
   "execution_count": 41,
   "id": "b60b49bd",
   "metadata": {},
   "outputs": [],
   "source": [
    "import seaborn as sns"
   ]
  },
  {
   "cell_type": "code",
   "execution_count": 42,
   "id": "d93001f9",
   "metadata": {
    "scrolled": true
   },
   "outputs": [
    {
     "data": {
      "text/plain": [
       "<AxesSubplot:>"
      ]
     },
     "execution_count": 42,
     "metadata": {},
     "output_type": "execute_result"
    },
    {
     "data": {
      "image/png": "[encoded data removed]",
      "text/plain": [
       "<Figure size 432x288 with 2 Axes>"
      ]
     },
     "metadata": {
      "needs_background": "light"
     },
     "output_type": "display_data"
    }
   ],
   "source": [
    "cm = confusion_matrix(y_test,y_pred)\n",
    "sns.heatmap(cm,annot=True)"
   ]
  },
  {
   "cell_type": "markdown",
   "id": "77f34565",
   "metadata": {},
   "source": [
    "# DigitsDecisionTree"
   ]
  },
  {
   "cell_type": "code",
   "execution_count": 43,
   "id": "06abebe1",
   "metadata": {},
   "outputs": [],
   "source": [
    "from sklearn.tree import DecisionTreeClassifier"
   ]
  },
  {
   "cell_type": "code",
   "execution_count": 44,
   "id": "94825536",
   "metadata": {},
   "outputs": [],
   "source": [
    "model = DecisionTreeClassifier()"
   ]
  },
  {
   "cell_type": "code",
   "execution_count": 45,
   "id": "06ffedf6",
   "metadata": {},
   "outputs": [
    {
     "data": {
      "text/plain": [
       "DecisionTreeClassifier()"
      ]
     },
     "execution_count": 45,
     "metadata": {},
     "output_type": "execute_result"
    }
   ],
   "source": [
    "model.fit(X_train,y_train)"
   ]
  },
  {
   "cell_type": "code",
   "execution_count": 46,
   "id": "66999fa8",
   "metadata": {},
   "outputs": [
    {
     "data": {
      "text/plain": [
       "0.8527777777777777"
      ]
     },
     "execution_count": 46,
     "metadata": {},
     "output_type": "execute_result"
    }
   ],
   "source": [
    "model.score(X_test,y_test)"
   ]
  },
  {
   "cell_type": "code",
   "execution_count": 49,
   "id": "979412c6",
   "metadata": {},
   "outputs": [],
   "source": [
    "import matplotlib.pyplot as plt\n",
    "from sklearn import tree"
   ]
  },
  {
   "cell_type": "markdown",
   "id": "e6133c05",
   "metadata": {},
   "source": [
    "# RandomForest"
   ]
  },
  {
   "cell_type": "code",
   "execution_count": 50,
   "id": "98e6123f",
   "metadata": {},
   "outputs": [
    {
     "data": {
      "text/plain": [
       "[Text(0.2442371457122093, 0.96875, 'X[36] <= 0.5\\ngini = 0.9\\nsamples = 1437\\nvalue = [145, 154, 144, 149, 135, 135, 146, 145, 144, 140]'),\n",
       " Text(0.059593023255813955, 0.90625, 'X[42] <= 5.0\\ngini = 0.539\\nsamples = 223\\nvalue = [143, 0, 3, 1, 6, 17, 4, 0, 3, 46]'),\n",
       " Text(0.029069767441860465, 0.84375, 'X[21] <= 6.5\\ngini = 0.376\\nsamples = 59\\nvalue = [0, 0, 1, 1, 0, 12, 0, 0, 0, 45]'),\n",
       " Text(0.011627906976744186, 0.78125, 'X[61] <= 11.5\\ngini = 0.272\\nsamples = 13\\nvalue = [0, 0, 1, 0, 0, 11, 0, 0, 0, 1]'),\n",
       " Text(0.005813953488372093, 0.71875, 'gini = 0.0\\nsamples = 11\\nvalue = [0, 0, 0, 0, 0, 11, 0, 0, 0, 0]'),\n",
       " Text(0.01744186046511628, 0.71875, 'X[49] <= 0.5\\ngini = 0.5\\nsamples = 2\\nvalue = [0, 0, 1, 0, 0, 0, 0, 0, 0, 1]'),\n",
       " Text(0.011627906976744186, 0.65625, 'gini = 0.0\\nsamples = 1\\nvalue = [0, 0, 0, 0, 0, 0, 0, 0, 0, 1]'),\n",
       " Text(0.023255813953488372, 0.65625, 'gini = 0.0\\nsamples = 1\\nvalue = [0, 0, 1, 0, 0, 0, 0, 0, 0, 0]'),\n",
       " Text(0.046511627906976744, 0.78125, 'X[26] <= 15.5\\ngini = 0.084\\nsamples = 46\\nvalue = [0, 0, 0, 1, 0, 1, 0, 0, 0, 44]'),\n",
       " Text(0.040697674418604654, 0.71875, 'X[9] <= 10.5\\ngini = 0.043\\nsamples = 45\\nvalue = [0, 0, 0, 1, 0, 0, 0, 0, 0, 44]'),\n",
       " Text(0.03488372093023256, 0.65625, 'gini = 0.0\\nsamples = 44\\nvalue = [0, 0, 0, 0, 0, 0, 0, 0, 0, 44]'),\n",
       " Text(0.046511627906976744, 0.65625, 'gini = 0.0\\nsamples = 1\\nvalue = [0, 0, 0, 1, 0, 0, 0, 0, 0, 0]'),\n",
       " Text(0.05232558139534884, 0.71875, 'gini = 0.0\\nsamples = 1\\nvalue = [0, 0, 0, 0, 0, 1, 0, 0, 0, 0]'),\n",
       " Text(0.09011627906976744, 0.84375, 'X[21] <= 0.5\\ngini = 0.236\\nsamples = 164\\nvalue = [143, 0, 2, 0, 6, 5, 4, 0, 3, 1]'),\n",
       " Text(0.06976744186046512, 0.78125, 'X[3] <= 4.5\\ngini = 0.735\\nsamples = 14\\nvalue = [1, 0, 1, 0, 5, 4, 3, 0, 0, 0]'),\n",
       " Text(0.06395348837209303, 0.71875, 'gini = 0.0\\nsamples = 5\\nvalue = [0, 0, 0, 0, 5, 0, 0, 0, 0, 0]'),\n",
       " Text(0.0755813953488372, 0.71875, 'X[17] <= 5.5\\ngini = 0.667\\nsamples = 9\\nvalue = [1, 0, 1, 0, 0, 4, 3, 0, 0, 0]'),\n",
       " Text(0.06976744186046512, 0.65625, 'X[41] <= 2.5\\ngini = 0.56\\nsamples = 5\\nvalue = [1, 0, 1, 0, 0, 0, 3, 0, 0, 0]'),\n",
       " Text(0.06395348837209303, 0.59375, 'gini = 0.0\\nsamples = 3\\nvalue = [0, 0, 0, 0, 0, 0, 3, 0, 0, 0]'),\n",
       " Text(0.0755813953488372, 0.59375, 'X[53] <= 12.5\\ngini = 0.5\\nsamples = 2\\nvalue = [1, 0, 1, 0, 0, 0, 0, 0, 0, 0]'),\n",
       " Text(0.06976744186046512, 0.53125, 'gini = 0.0\\nsamples = 1\\nvalue = [1, 0, 0, 0, 0, 0, 0, 0, 0, 0]'),\n",
       " Text(0.08139534883720931, 0.53125, 'gini = 0.0\\nsamples = 1\\nvalue = [0, 0, 1, 0, 0, 0, 0, 0, 0, 0]'),\n",
       " Text(0.08139534883720931, 0.65625, 'gini = 0.0\\nsamples = 4\\nvalue = [0, 0, 0, 0, 0, 4, 0, 0, 0, 0]'),\n",
       " Text(0.11046511627906977, 0.78125, 'X[28] <= 4.5\\ngini = 0.103\\nsamples = 150\\nvalue = [142, 0, 1, 0, 1, 1, 1, 0, 3, 1]'),\n",
       " Text(0.09883720930232558, 0.71875, 'X[18] <= 2.5\\ngini = 0.027\\nsamples = 144\\nvalue = [142, 0, 1, 0, 1, 0, 0, 0, 0, 0]'),\n",
       " Text(0.09302325581395349, 0.65625, 'X[29] <= 10.5\\ngini = 0.5\\nsamples = 2\\nvalue = [0, 0, 1, 0, 1, 0, 0, 0, 0, 0]'),\n",
       " Text(0.0872093023255814, 0.59375, 'gini = 0.0\\nsamples = 1\\nvalue = [0, 0, 0, 0, 1, 0, 0, 0, 0, 0]'),\n",
       " Text(0.09883720930232558, 0.59375, 'gini = 0.0\\nsamples = 1\\nvalue = [0, 0, 1, 0, 0, 0, 0, 0, 0, 0]'),\n",
       " Text(0.10465116279069768, 0.65625, 'gini = 0.0\\nsamples = 142\\nvalue = [142, 0, 0, 0, 0, 0, 0, 0, 0, 0]'),\n",
       " Text(0.12209302325581395, 0.71875, 'X[60] <= 7.5\\ngini = 0.667\\nsamples = 6\\nvalue = [0, 0, 0, 0, 0, 1, 1, 0, 3, 1]'),\n",
       " Text(0.11627906976744186, 0.65625, 'gini = 0.0\\nsamples = 3\\nvalue = [0, 0, 0, 0, 0, 0, 0, 0, 3, 0]'),\n",
       " Text(0.12790697674418605, 0.65625, 'X[5] <= 5.5\\ngini = 0.667\\nsamples = 3\\nvalue = [0, 0, 0, 0, 0, 1, 1, 0, 0, 1]'),\n",
       " Text(0.12209302325581395, 0.59375, 'gini = 0.0\\nsamples = 1\\nvalue = [0, 0, 0, 0, 0, 0, 1, 0, 0, 0]'),\n",
       " Text(0.13372093023255813, 0.59375, 'X[2] <= 5.0\\ngini = 0.5\\nsamples = 2\\nvalue = [0, 0, 0, 0, 0, 1, 0, 0, 0, 1]'),\n",
       " Text(0.12790697674418605, 0.53125, 'gini = 0.0\\nsamples = 1\\nvalue = [0, 0, 0, 0, 0, 0, 0, 0, 0, 1]'),\n",
       " Text(0.13953488372093023, 0.53125, 'gini = 0.0\\nsamples = 1\\nvalue = [0, 0, 0, 0, 0, 1, 0, 0, 0, 0]'),\n",
       " Text(0.42888126816860467, 0.90625, 'X[21] <= 0.5\\ngini = 0.887\\nsamples = 1214\\nvalue = [2, 154, 141, 148, 129, 118, 142, 145, 141, 94]'),\n",
       " Text(0.27180232558139533, 0.84375, 'X[42] <= 8.5\\ngini = 0.74\\nsamples = 363\\nvalue = [0, 35, 38, 12, 22, 108, 139, 5, 3, 1]'),\n",
       " Text(0.22238372093023256, 0.78125, 'X[5] <= 1.5\\ngini = 0.646\\nsamples = 193\\nvalue = [0, 29, 30, 12, 6, 106, 2, 4, 3, 1]'),\n",
       " Text(0.18895348837209303, 0.71875, 'X[27] <= 13.5\\ngini = 0.731\\nsamples = 84\\nvalue = [0, 29, 30, 11, 4, 2, 2, 3, 2, 1]'),\n",
       " Text(0.1686046511627907, 0.65625, 'X[37] <= 1.5\\ngini = 0.536\\nsamples = 45\\nvalue = [0, 3, 30, 3, 3, 1, 1, 3, 1, 0]'),\n",
       " Text(0.1569767441860465, 0.59375, 'X[13] <= 3.0\\ngini = 0.064\\nsamples = 30\\nvalue = [0, 0, 29, 0, 0, 0, 0, 0, 1, 0]'),\n",
       " Text(0.1511627906976744, 0.53125, 'gini = 0.0\\nsamples = 29\\nvalue = [0, 0, 29, 0, 0, 0, 0, 0, 0, 0]'),\n",
       " Text(0.16279069767441862, 0.53125, 'gini = 0.0\\nsamples = 1\\nvalue = [0, 0, 0, 0, 0, 0, 0, 0, 1, 0]'),\n",
       " Text(0.18023255813953487, 0.59375, 'X[60] <= 4.0\\ngini = 0.827\\nsamples = 15\\nvalue = [0, 3, 1, 3, 3, 1, 1, 3, 0, 0]'),\n",
       " Text(0.1744186046511628, 0.53125, 'gini = 0.0\\nsamples = 3\\nvalue = [0, 0, 0, 0, 0, 0, 0, 3, 0, 0]'),\n",
       " Text(0.18604651162790697, 0.53125, 'X[33] <= 3.0\\ngini = 0.792\\nsamples = 12\\nvalue = [0, 3, 1, 3, 3, 1, 1, 0, 0, 0]'),\n",
       " Text(0.18023255813953487, 0.46875, 'X[10] <= 0.5\\ngini = 0.741\\nsamples = 9\\nvalue = [0, 3, 1, 3, 0, 1, 1, 0, 0, 0]'),\n",
       " Text(0.1744186046511628, 0.40625, 'gini = 0.0\\nsamples = 3\\nvalue = [0, 3, 0, 0, 0, 0, 0, 0, 0, 0]'),\n",
       " Text(0.18604651162790697, 0.40625, 'X[54] <= 4.0\\ngini = 0.667\\nsamples = 6\\nvalue = [0, 0, 1, 3, 0, 1, 1, 0, 0, 0]'),\n",
       " Text(0.18023255813953487, 0.34375, 'gini = 0.0\\nsamples = 3\\nvalue = [0, 0, 0, 3, 0, 0, 0, 0, 0, 0]'),\n",
       " Text(0.19186046511627908, 0.34375, 'X[36] <= 8.5\\ngini = 0.667\\nsamples = 3\\nvalue = [0, 0, 1, 0, 0, 1, 1, 0, 0, 0]'),\n",
       " Text(0.18604651162790697, 0.28125, 'gini = 0.0\\nsamples = 1\\nvalue = [0, 0, 0, 0, 0, 1, 0, 0, 0, 0]'),\n",
       " Text(0.19767441860465115, 0.28125, 'X[11] <= 12.5\\ngini = 0.5\\nsamples = 2\\nvalue = [0, 0, 1, 0, 0, 0, 1, 0, 0, 0]'),\n",
       " Text(0.19186046511627908, 0.21875, 'gini = 0.0\\nsamples = 1\\nvalue = [0, 0, 1, 0, 0, 0, 0, 0, 0, 0]'),\n",
       " Text(0.20348837209302326, 0.21875, 'gini = 0.0\\nsamples = 1\\nvalue = [0, 0, 0, 0, 0, 0, 1, 0, 0, 0]'),\n",
       " Text(0.19186046511627908, 0.46875, 'gini = 0.0\\nsamples = 3\\nvalue = [0, 0, 0, 0, 3, 0, 0, 0, 0, 0]'),\n",
       " Text(0.20930232558139536, 0.65625, 'X[46] <= 2.5\\ngini = 0.51\\nsamples = 39\\nvalue = [0, 26, 0, 8, 1, 1, 1, 0, 1, 1]'),\n",
       " Text(0.20348837209302326, 0.59375, 'gini = 0.0\\nsamples = 26\\nvalue = [0, 26, 0, 0, 0, 0, 0, 0, 0, 0]'),\n",
       " Text(0.21511627906976744, 0.59375, 'X[12] <= 14.5\\ngini = 0.592\\nsamples = 13\\nvalue = [0, 0, 0, 8, 1, 1, 1, 0, 1, 1]'),\n",
       " Text(0.20930232558139536, 0.53125, 'X[10] <= 1.5\\ngini = 0.8\\nsamples = 5\\nvalue = [0, 0, 0, 0, 1, 1, 1, 0, 1, 1]'),\n",
       " Text(0.20348837209302326, 0.46875, 'gini = 0.0\\nsamples = 1\\nvalue = [0, 0, 0, 0, 1, 0, 0, 0, 0, 0]'),\n",
       " Text(0.21511627906976744, 0.46875, 'X[20] <= 5.0\\ngini = 0.75\\nsamples = 4\\nvalue = [0, 0, 0, 0, 0, 1, 1, 0, 1, 1]'),\n",
       " Text(0.20930232558139536, 0.40625, 'gini = 0.0\\nsamples = 1\\nvalue = [0, 0, 0, 0, 0, 1, 0, 0, 0, 0]'),\n",
       " Text(0.22093023255813954, 0.40625, 'X[25] <= 1.0\\ngini = 0.667\\nsamples = 3\\nvalue = [0, 0, 0, 0, 0, 0, 1, 0, 1, 1]'),\n",
       " Text(0.21511627906976744, 0.34375, 'gini = 0.0\\nsamples = 1\\nvalue = [0, 0, 0, 0, 0, 0, 1, 0, 0, 0]'),\n",
       " Text(0.22674418604651161, 0.34375, 'X[34] <= 4.0\\ngini = 0.5\\nsamples = 2\\nvalue = [0, 0, 0, 0, 0, 0, 0, 0, 1, 1]'),\n",
       " Text(0.22093023255813954, 0.28125, 'gini = 0.0\\nsamples = 1\\nvalue = [0, 0, 0, 0, 0, 0, 0, 0, 0, 1]'),\n",
       " Text(0.23255813953488372, 0.28125, 'gini = 0.0\\nsamples = 1\\nvalue = [0, 0, 0, 0, 0, 0, 0, 0, 1, 0]'),\n",
       " Text(0.22093023255813954, 0.53125, 'gini = 0.0\\nsamples = 8\\nvalue = [0, 0, 0, 8, 0, 0, 0, 0, 0, 0]'),\n",
       " Text(0.2558139534883721, 0.71875, 'X[18] <= 4.5\\ngini = 0.089\\nsamples = 109\\nvalue = [0, 0, 0, 1, 2, 104, 0, 1, 1, 0]'),\n",
       " Text(0.2441860465116279, 0.65625, 'X[6] <= 8.0\\ngini = 0.667\\nsamples = 3\\nvalue = [0, 0, 0, 1, 1, 0, 0, 1, 0, 0]'),\n",
       " Text(0.23837209302325582, 0.59375, 'X[34] <= 8.5\\ngini = 0.5\\nsamples = 2\\nvalue = [0, 0, 0, 1, 1, 0, 0, 0, 0, 0]'),\n",
       " Text(0.23255813953488372, 0.53125, 'gini = 0.0\\nsamples = 1\\nvalue = [0, 0, 0, 1, 0, 0, 0, 0, 0, 0]'),\n",
       " Text(0.2441860465116279, 0.53125, 'gini = 0.0\\nsamples = 1\\nvalue = [0, 0, 0, 0, 1, 0, 0, 0, 0, 0]'),\n",
       " Text(0.25, 0.59375, 'gini = 0.0\\nsamples = 1\\nvalue = [0, 0, 0, 0, 0, 0, 0, 1, 0, 0]'),\n",
       " Text(0.26744186046511625, 0.65625, 'X[8] <= 1.5\\ngini = 0.037\\nsamples = 106\\nvalue = [0, 0, 0, 0, 1, 104, 0, 0, 1, 0]'),\n",
       " Text(0.2616279069767442, 0.59375, 'X[24] <= 0.5\\ngini = 0.019\\nsamples = 105\\nvalue = [0, 0, 0, 0, 1, 104, 0, 0, 0, 0]'),\n",
       " Text(0.2558139534883721, 0.53125, 'gini = 0.0\\nsamples = 104\\nvalue = [0, 0, 0, 0, 0, 104, 0, 0, 0, 0]'),\n",
       " Text(0.26744186046511625, 0.53125, 'gini = 0.0\\nsamples = 1\\nvalue = [0, 0, 0, 0, 1, 0, 0, 0, 0, 0]'),\n",
       " Text(0.27325581395348836, 0.59375, 'gini = 0.0\\nsamples = 1\\nvalue = [0, 0, 0, 0, 0, 0, 0, 0, 1, 0]'),\n",
       " Text(0.32122093023255816, 0.78125, 'X[54] <= 1.5\\ngini = 0.338\\nsamples = 170\\nvalue = [0, 6, 8, 0, 16, 2, 137, 1, 0, 0]'),\n",
       " Text(0.30523255813953487, 0.71875, 'X[10] <= 5.5\\ngini = 0.697\\nsamples = 34\\nvalue = [0, 6, 2, 0, 16, 2, 7, 1, 0, 0]'),\n",
       " Text(0.29069767441860467, 0.65625, 'X[53] <= 14.5\\ngini = 0.111\\nsamples = 17\\nvalue = [0, 0, 0, 0, 16, 0, 1, 0, 0, 0]'),\n",
       " Text(0.28488372093023256, 0.59375, 'gini = 0.0\\nsamples = 16\\nvalue = [0, 0, 0, 0, 16, 0, 0, 0, 0, 0]'),\n",
       " Text(0.29651162790697677, 0.59375, 'gini = 0.0\\nsamples = 1\\nvalue = [0, 0, 0, 0, 0, 0, 1, 0, 0, 0]'),\n",
       " Text(0.31976744186046513, 0.65625, 'X[12] <= 13.5\\ngini = 0.72\\nsamples = 17\\nvalue = [0, 6, 2, 0, 0, 2, 6, 1, 0, 0]'),\n",
       " Text(0.3081395348837209, 0.59375, 'X[59] <= 12.5\\ngini = 0.375\\nsamples = 8\\nvalue = [0, 0, 0, 0, 0, 2, 6, 0, 0, 0]'),\n",
       " Text(0.3023255813953488, 0.53125, 'gini = 0.0\\nsamples = 6\\nvalue = [0, 0, 0, 0, 0, 0, 6, 0, 0, 0]'),\n",
       " Text(0.313953488372093, 0.53125, 'gini = 0.0\\nsamples = 2\\nvalue = [0, 0, 0, 0, 0, 2, 0, 0, 0, 0]'),\n",
       " Text(0.3313953488372093, 0.59375, 'X[27] <= 14.0\\ngini = 0.494\\nsamples = 9\\nvalue = [0, 6, 2, 0, 0, 0, 0, 1, 0, 0]'),\n",
       " Text(0.32558139534883723, 0.53125, 'X[42] <= 12.0\\ngini = 0.444\\nsamples = 3\\nvalue = [0, 0, 2, 0, 0, 0, 0, 1, 0, 0]'),\n",
       " Text(0.31976744186046513, 0.46875, 'gini = 0.0\\nsamples = 2\\nvalue = [0, 0, 2, 0, 0, 0, 0, 0, 0, 0]'),\n",
       " Text(0.3313953488372093, 0.46875, 'gini = 0.0\\nsamples = 1\\nvalue = [0, 0, 0, 0, 0, 0, 0, 1, 0, 0]'),\n",
       " Text(0.3372093023255814, 0.53125, 'gini = 0.0\\nsamples = 6\\nvalue = [0, 6, 0, 0, 0, 0, 0, 0, 0, 0]'),\n",
       " Text(0.3372093023255814, 0.71875, 'X[2] <= 11.0\\ngini = 0.084\\nsamples = 136\\nvalue = [0, 0, 6, 0, 0, 0, 130, 0, 0, 0]'),\n",
       " Text(0.3313953488372093, 0.65625, 'gini = 0.0\\nsamples = 130\\nvalue = [0, 0, 0, 0, 0, 0, 130, 0, 0, 0]'),\n",
       " Text(0.3430232558139535, 0.65625, 'gini = 0.0\\nsamples = 6\\nvalue = [0, 0, 6, 0, 0, 0, 0, 0, 0, 0]'),\n",
       " Text(0.585960210755814, 0.84375, 'X[60] <= 2.5\\ngini = 0.859\\nsamples = 851\\nvalue = [2, 119, 103, 136, 107, 10, 3, 140, 138, 93]'),\n",
       " Text(0.3953488372093023, 0.78125, 'X[26] <= 12.5\\ngini = 0.204\\nsamples = 109\\nvalue = [0, 0, 1, 2, 5, 0, 0, 97, 0, 4]'),\n",
       " Text(0.37209302325581395, 0.71875, 'X[37] <= 0.5\\ngini = 0.08\\nsamples = 97\\nvalue = [0, 0, 1, 2, 1, 0, 0, 93, 0, 0]'),\n",
       " Text(0.36046511627906974, 0.65625, 'X[35] <= 15.5\\ngini = 0.64\\nsamples = 5\\nvalue = [0, 0, 0, 2, 1, 0, 0, 2, 0, 0]'),\n",
       " Text(0.3546511627906977, 0.59375, 'X[43] <= 11.5\\ngini = 0.444\\nsamples = 3\\nvalue = [0, 0, 0, 2, 1, 0, 0, 0, 0, 0]'),\n",
       " Text(0.3488372093023256, 0.53125, 'gini = 0.0\\nsamples = 2\\nvalue = [0, 0, 0, 2, 0, 0, 0, 0, 0, 0]'),\n",
       " Text(0.36046511627906974, 0.53125, 'gini = 0.0\\nsamples = 1\\nvalue = [0, 0, 0, 0, 1, 0, 0, 0, 0, 0]'),\n",
       " Text(0.36627906976744184, 0.59375, 'gini = 0.0\\nsamples = 2\\nvalue = [0, 0, 0, 0, 0, 0, 0, 2, 0, 0]'),\n",
       " Text(0.38372093023255816, 0.65625, 'X[53] <= 8.5\\ngini = 0.022\\nsamples = 92\\nvalue = [0, 0, 1, 0, 0, 0, 0, 91, 0, 0]'),\n",
       " Text(0.37790697674418605, 0.59375, 'gini = 0.0\\nsamples = 91\\nvalue = [0, 0, 0, 0, 0, 0, 0, 91, 0, 0]'),\n",
       " Text(0.38953488372093026, 0.59375, 'gini = 0.0\\nsamples = 1\\nvalue = [0, 0, 1, 0, 0, 0, 0, 0, 0, 0]'),\n",
       " Text(0.4186046511627907, 0.71875, 'X[18] <= 12.5\\ngini = 0.667\\nsamples = 12\\nvalue = [0, 0, 0, 0, 4, 0, 0, 4, 0, 4]'),\n",
       " Text(0.4069767441860465, 0.65625, 'X[17] <= 4.0\\ngini = 0.32\\nsamples = 5\\nvalue = [0, 0, 0, 0, 0, 0, 0, 4, 0, 1]'),\n",
       " Text(0.4011627906976744, 0.59375, 'gini = 0.0\\nsamples = 4\\nvalue = [0, 0, 0, 0, 0, 0, 0, 4, 0, 0]'),\n",
       " Text(0.4127906976744186, 0.59375, 'gini = 0.0\\nsamples = 1\\nvalue = [0, 0, 0, 0, 0, 0, 0, 0, 0, 1]'),\n",
       " Text(0.43023255813953487, 0.65625, 'X[4] <= 10.5\\ngini = 0.49\\nsamples = 7\\nvalue = [0, 0, 0, 0, 4, 0, 0, 0, 0, 3]'),\n",
       " Text(0.42441860465116277, 0.59375, 'gini = 0.0\\nsamples = 4\\nvalue = [0, 0, 0, 0, 4, 0, 0, 0, 0, 0]'),\n",
       " Text(0.436046511627907, 0.59375, 'gini = 0.0\\nsamples = 3\\nvalue = [0, 0, 0, 0, 0, 0, 0, 0, 0, 3]'),\n",
       " Text(0.7765715843023255, 0.78125, 'X[33] <= 4.5\\ngini = 0.851\\nsamples = 742\\nvalue = [2, 119, 102, 134, 102, 10, 3, 43, 138, 89]'),\n",
       " Text(0.60546875, 0.71875, 'X[43] <= 2.5\\ngini = 0.829\\nsamples = 629\\nvalue = [2, 108, 102, 133, 11, 9, 1, 38, 136, 89]'),\n",
       " Text(0.48492005813953487, 0.65625, 'X[26] <= 3.5\\ngini = 0.689\\nsamples = 266\\nvalue = [0, 25, 7, 119, 2, 7, 0, 4, 20, 82]'),\n",
       " Text(0.4476744186046512, 0.59375, 'X[63] <= 1.5\\ngini = 0.232\\nsamples = 119\\nvalue = [0, 2, 6, 104, 0, 0, 0, 0, 3, 4]'),\n",
       " Text(0.4331395348837209, 0.53125, 'X[19] <= 8.5\\ngini = 0.136\\nsamples = 112\\nvalue = [0, 1, 0, 104, 0, 0, 0, 0, 3, 4]'),\n",
       " Text(0.42151162790697677, 0.46875, 'X[4] <= 7.5\\ngini = 0.019\\nsamples = 103\\nvalue = [0, 0, 0, 102, 0, 0, 0, 0, 0, 1]'),\n",
       " Text(0.41569767441860467, 0.40625, 'X[46] <= 2.5\\ngini = 0.444\\nsamples = 3\\nvalue = [0, 0, 0, 2, 0, 0, 0, 0, 0, 1]'),\n",
       " Text(0.40988372093023256, 0.34375, 'gini = 0.0\\nsamples = 1\\nvalue = [0, 0, 0, 0, 0, 0, 0, 0, 0, 1]'),\n",
       " Text(0.42151162790697677, 0.34375, 'gini = 0.0\\nsamples = 2\\nvalue = [0, 0, 0, 2, 0, 0, 0, 0, 0, 0]'),\n",
       " Text(0.4273255813953488, 0.40625, 'gini = 0.0\\nsamples = 100\\nvalue = [0, 0, 0, 100, 0, 0, 0, 0, 0, 0]'),\n",
       " Text(0.44476744186046513, 0.46875, 'X[60] <= 14.0\\ngini = 0.716\\nsamples = 9\\nvalue = [0, 1, 0, 2, 0, 0, 0, 0, 3, 3]'),\n",
       " Text(0.438953488372093, 0.40625, 'gini = 0.0\\nsamples = 3\\nvalue = [0, 0, 0, 0, 0, 0, 0, 0, 3, 0]'),\n",
       " Text(0.45058139534883723, 0.40625, 'X[36] <= 6.0\\ngini = 0.611\\nsamples = 6\\nvalue = [0, 1, 0, 2, 0, 0, 0, 0, 0, 3]'),\n",
       " Text(0.44476744186046513, 0.34375, 'gini = 0.0\\nsamples = 3\\nvalue = [0, 0, 0, 0, 0, 0, 0, 0, 0, 3]'),\n",
       " Text(0.4563953488372093, 0.34375, 'X[50] <= 3.5\\ngini = 0.444\\nsamples = 3\\nvalue = [0, 1, 0, 2, 0, 0, 0, 0, 0, 0]'),\n",
       " Text(0.45058139534883723, 0.28125, 'gini = 0.0\\nsamples = 1\\nvalue = [0, 1, 0, 0, 0, 0, 0, 0, 0, 0]'),\n",
       " Text(0.4622093023255814, 0.28125, 'gini = 0.0\\nsamples = 2\\nvalue = [0, 0, 0, 2, 0, 0, 0, 0, 0, 0]'),\n",
       " Text(0.4622093023255814, 0.53125, 'X[10] <= 3.0\\ngini = 0.245\\nsamples = 7\\nvalue = [0, 1, 6, 0, 0, 0, 0, 0, 0, 0]'),\n",
       " Text(0.4563953488372093, 0.46875, 'gini = 0.0\\nsamples = 1\\nvalue = [0, 1, 0, 0, 0, 0, 0, 0, 0, 0]'),\n",
       " Text(0.4680232558139535, 0.46875, 'gini = 0.0\\nsamples = 6\\nvalue = [0, 0, 6, 0, 0, 0, 0, 0, 0, 0]'),\n",
       " Text(0.5221656976744186, 0.59375, 'X[42] <= 11.0\\ngini = 0.667\\nsamples = 147\\nvalue = [0, 23, 1, 15, 2, 7, 0, 4, 17, 78]'),\n",
       " Text(0.5021802325581395, 0.53125, 'X[10] <= 0.5\\ngini = 0.598\\nsamples = 131\\nvalue = [0, 23, 1, 15, 2, 6, 0, 4, 2, 78]'),\n",
       " Text(0.4796511627906977, 0.46875, 'X[20] <= 12.0\\ngini = 0.266\\nsamples = 19\\nvalue = [0, 16, 0, 0, 0, 0, 0, 0, 0, 3]'),\n",
       " Text(0.4738372093023256, 0.40625, 'gini = 0.0\\nsamples = 3\\nvalue = [0, 0, 0, 0, 0, 0, 0, 0, 0, 3]'),\n",
       " Text(0.48546511627906974, 0.40625, 'gini = 0.0\\nsamples = 16\\nvalue = [0, 16, 0, 0, 0, 0, 0, 0, 0, 0]'),\n",
       " Text(0.5247093023255814, 0.46875, 'X[21] <= 10.5\\ngini = 0.525\\nsamples = 112\\nvalue = [0, 7, 1, 15, 2, 6, 0, 4, 2, 75]'),\n",
       " Text(0.49709302325581395, 0.40625, 'X[26] <= 8.5\\ngini = 0.732\\nsamples = 28\\nvalue = [0, 0, 0, 12, 1, 6, 0, 3, 2, 4]'),\n",
       " Text(0.49127906976744184, 0.34375, 'gini = 0.0\\nsamples = 10\\nvalue = [0, 0, 0, 10, 0, 0, 0, 0, 0, 0]'),\n",
       " Text(0.502906976744186, 0.34375, 'X[51] <= 1.0\\ngini = 0.784\\nsamples = 18\\nvalue = [0, 0, 0, 2, 1, 6, 0, 3, 2, 4]'),\n",
       " Text(0.49709302325581395, 0.28125, 'gini = 0.0\\nsamples = 4\\nvalue = [0, 0, 0, 0, 0, 0, 0, 0, 0, 4]'),\n",
       " Text(0.5087209302325582, 0.28125, 'X[58] <= 8.5\\ngini = 0.724\\nsamples = 14\\nvalue = [0, 0, 0, 2, 1, 6, 0, 3, 2, 0]'),\n",
       " Text(0.502906976744186, 0.21875, 'X[14] <= 9.0\\ngini = 0.719\\nsamples = 8\\nvalue = [0, 0, 0, 2, 1, 0, 0, 3, 2, 0]'),\n",
       " Text(0.49709302325581395, 0.15625, 'X[13] <= 10.5\\ngini = 0.64\\nsamples = 5\\nvalue = [0, 0, 0, 2, 1, 0, 0, 0, 2, 0]'),\n",
       " Text(0.49127906976744184, 0.09375, 'X[12] <= 7.0\\ngini = 0.444\\nsamples = 3\\nvalue = [0, 0, 0, 0, 1, 0, 0, 0, 2, 0]'),\n",
       " Text(0.48546511627906974, 0.03125, 'gini = 0.0\\nsamples = 1\\nvalue = [0, 0, 0, 0, 1, 0, 0, 0, 0, 0]'),\n",
       " Text(0.49709302325581395, 0.03125, 'gini = 0.0\\nsamples = 2\\nvalue = [0, 0, 0, 0, 0, 0, 0, 0, 2, 0]'),\n",
       " Text(0.502906976744186, 0.09375, 'gini = 0.0\\nsamples = 2\\nvalue = [0, 0, 0, 2, 0, 0, 0, 0, 0, 0]'),\n",
       " Text(0.5087209302325582, 0.15625, 'gini = 0.0\\nsamples = 3\\nvalue = [0, 0, 0, 0, 0, 0, 0, 3, 0, 0]'),\n",
       " Text(0.5145348837209303, 0.21875, 'gini = 0.0\\nsamples = 6\\nvalue = [0, 0, 0, 0, 0, 6, 0, 0, 0, 0]'),\n",
       " Text(0.5523255813953488, 0.40625, 'X[27] <= 3.0\\ngini = 0.277\\nsamples = 84\\nvalue = [0, 7, 1, 3, 1, 0, 0, 1, 0, 71]'),\n",
       " Text(0.5377906976744186, 0.34375, 'X[12] <= 13.5\\ngini = 0.675\\nsamples = 13\\nvalue = [0, 6, 1, 3, 0, 0, 0, 0, 0, 3]'),\n",
       " Text(0.5319767441860465, 0.28125, 'X[34] <= 7.0\\ngini = 0.612\\nsamples = 7\\nvalue = [0, 0, 1, 3, 0, 0, 0, 0, 0, 3]'),\n",
       " Text(0.5261627906976745, 0.21875, 'X[45] <= 5.5\\ngini = 0.375\\nsamples = 4\\nvalue = [0, 0, 1, 3, 0, 0, 0, 0, 0, 0]'),\n",
       " Text(0.5203488372093024, 0.15625, 'gini = 0.0\\nsamples = 1\\nvalue = [0, 0, 1, 0, 0, 0, 0, 0, 0, 0]'),\n",
       " Text(0.5319767441860465, 0.15625, 'gini = 0.0\\nsamples = 3\\nvalue = [0, 0, 0, 3, 0, 0, 0, 0, 0, 0]'),\n",
       " Text(0.5377906976744186, 0.21875, 'gini = 0.0\\nsamples = 3\\nvalue = [0, 0, 0, 0, 0, 0, 0, 0, 0, 3]'),\n",
       " Text(0.5436046511627907, 0.28125, 'gini = 0.0\\nsamples = 6\\nvalue = [0, 6, 0, 0, 0, 0, 0, 0, 0, 0]'),\n",
       " Text(0.5668604651162791, 0.34375, 'X[33] <= 3.0\\ngini = 0.082\\nsamples = 71\\nvalue = [0, 1, 0, 0, 1, 0, 0, 1, 0, 68]'),\n",
       " Text(0.5552325581395349, 0.28125, 'X[3] <= 0.5\\ngini = 0.029\\nsamples = 69\\nvalue = [0, 1, 0, 0, 0, 0, 0, 0, 0, 68]'),\n",
       " Text(0.5494186046511628, 0.21875, 'X[29] <= 15.5\\ngini = 0.5\\nsamples = 2\\nvalue = [0, 1, 0, 0, 0, 0, 0, 0, 0, 1]'),\n",
       " Text(0.5436046511627907, 0.15625, 'gini = 0.0\\nsamples = 1\\nvalue = [0, 0, 0, 0, 0, 0, 0, 0, 0, 1]'),\n",
       " Text(0.5552325581395349, 0.15625, 'gini = 0.0\\nsamples = 1\\nvalue = [0, 1, 0, 0, 0, 0, 0, 0, 0, 0]'),\n",
       " Text(0.561046511627907, 0.21875, 'gini = 0.0\\nsamples = 67\\nvalue = [0, 0, 0, 0, 0, 0, 0, 0, 0, 67]'),\n",
       " Text(0.5784883720930233, 0.28125, 'X[26] <= 12.5\\ngini = 0.5\\nsamples = 2\\nvalue = [0, 0, 0, 0, 1, 0, 0, 1, 0, 0]'),\n",
       " Text(0.5726744186046512, 0.21875, 'gini = 0.0\\nsamples = 1\\nvalue = [0, 0, 0, 0, 0, 0, 0, 1, 0, 0]'),\n",
       " Text(0.5843023255813954, 0.21875, 'gini = 0.0\\nsamples = 1\\nvalue = [0, 0, 0, 0, 1, 0, 0, 0, 0, 0]'),\n",
       " Text(0.5421511627906976, 0.53125, 'X[6] <= 7.5\\ngini = 0.117\\nsamples = 16\\nvalue = [0, 0, 0, 0, 0, 1, 0, 0, 15, 0]'),\n",
       " Text(0.5363372093023255, 0.46875, 'gini = 0.0\\nsamples = 15\\nvalue = [0, 0, 0, 0, 0, 0, 0, 0, 15, 0]'),\n",
       " Text(0.5479651162790697, 0.46875, 'gini = 0.0\\nsamples = 1\\nvalue = [0, 0, 0, 0, 0, 1, 0, 0, 0, 0]'),\n",
       " Text(0.7260174418604651, 0.65625, 'X[27] <= 9.5\\ngini = 0.766\\nsamples = 363\\nvalue = [2, 83, 95, 14, 9, 2, 1, 34, 116, 7]'),\n",
       " Text(0.6293604651162791, 0.59375, 'X[61] <= 0.5\\ngini = 0.561\\nsamples = 138\\nvalue = [2, 0, 85, 2, 3, 0, 0, 31, 12, 3]'),\n",
       " Text(0.6017441860465116, 0.53125, 'X[50] <= 7.0\\ngini = 0.26\\nsamples = 35\\nvalue = [1, 0, 0, 1, 1, 0, 0, 30, 2, 0]'),\n",
       " Text(0.5901162790697675, 0.46875, 'X[58] <= 9.5\\ngini = 0.119\\nsamples = 32\\nvalue = [0, 0, 0, 1, 1, 0, 0, 30, 0, 0]'),\n",
       " Text(0.5843023255813954, 0.40625, 'X[5] <= 2.0\\ngini = 0.062\\nsamples = 31\\nvalue = [0, 0, 0, 0, 1, 0, 0, 30, 0, 0]'),\n",
       " Text(0.5784883720930233, 0.34375, 'gini = 0.0\\nsamples = 1\\nvalue = [0, 0, 0, 0, 1, 0, 0, 0, 0, 0]'),\n",
       " Text(0.5901162790697675, 0.34375, 'gini = 0.0\\nsamples = 30\\nvalue = [0, 0, 0, 0, 0, 0, 0, 30, 0, 0]'),\n",
       " Text(0.5959302325581395, 0.40625, 'gini = 0.0\\nsamples = 1\\nvalue = [0, 0, 0, 1, 0, 0, 0, 0, 0, 0]'),\n",
       " Text(0.6133720930232558, 0.46875, 'X[37] <= 11.0\\ngini = 0.444\\nsamples = 3\\nvalue = [1, 0, 0, 0, 0, 0, 0, 0, 2, 0]'),\n",
       " Text(0.6075581395348837, 0.40625, 'gini = 0.0\\nsamples = 2\\nvalue = [0, 0, 0, 0, 0, 0, 0, 0, 2, 0]'),\n",
       " Text(0.6191860465116279, 0.40625, 'gini = 0.0\\nsamples = 1\\nvalue = [1, 0, 0, 0, 0, 0, 0, 0, 0, 0]'),\n",
       " Text(0.6569767441860465, 0.53125, 'X[26] <= 7.0\\ngini = 0.308\\nsamples = 103\\nvalue = [1, 0, 85, 1, 2, 0, 0, 1, 10, 3]'),\n",
       " Text(0.6366279069767442, 0.46875, 'X[38] <= 1.5\\ngini = 0.046\\nsamples = 85\\nvalue = [0, 0, 83, 1, 0, 0, 0, 1, 0, 0]'),\n",
       " Text(0.6308139534883721, 0.40625, 'gini = 0.0\\nsamples = 83\\nvalue = [0, 0, 83, 0, 0, 0, 0, 0, 0, 0]'),\n",
       " Text(0.6424418604651163, 0.40625, 'X[34] <= 2.0\\ngini = 0.5\\nsamples = 2\\nvalue = [0, 0, 0, 1, 0, 0, 0, 1, 0, 0]'),\n",
       " Text(0.6366279069767442, 0.34375, 'gini = 0.0\\nsamples = 1\\nvalue = [0, 0, 0, 1, 0, 0, 0, 0, 0, 0]'),\n",
       " Text(0.6482558139534884, 0.34375, 'gini = 0.0\\nsamples = 1\\nvalue = [0, 0, 0, 0, 0, 0, 0, 1, 0, 0]'),\n",
       " Text(0.6773255813953488, 0.46875, 'X[5] <= 2.5\\ngini = 0.636\\nsamples = 18\\nvalue = [1, 0, 2, 0, 2, 0, 0, 0, 10, 3]'),\n",
       " Text(0.6656976744186046, 0.40625, 'X[21] <= 13.0\\ngini = 0.719\\nsamples = 8\\nvalue = [0, 0, 2, 0, 2, 0, 0, 0, 1, 3]'),\n",
       " Text(0.6598837209302325, 0.34375, 'X[29] <= 3.5\\ngini = 0.64\\nsamples = 5\\nvalue = [0, 0, 2, 0, 2, 0, 0, 0, 1, 0]'),\n",
       " Text(0.6540697674418605, 0.28125, 'X[50] <= 10.0\\ngini = 0.444\\nsamples = 3\\nvalue = [0, 0, 2, 0, 0, 0, 0, 0, 1, 0]'),\n",
       " Text(0.6482558139534884, 0.21875, 'gini = 0.0\\nsamples = 2\\nvalue = [0, 0, 2, 0, 0, 0, 0, 0, 0, 0]'),\n",
       " Text(0.6598837209302325, 0.21875, 'gini = 0.0\\nsamples = 1\\nvalue = [0, 0, 0, 0, 0, 0, 0, 0, 1, 0]'),\n",
       " Text(0.6656976744186046, 0.28125, 'gini = 0.0\\nsamples = 2\\nvalue = [0, 0, 0, 0, 2, 0, 0, 0, 0, 0]'),\n",
       " Text(0.6715116279069767, 0.34375, 'gini = 0.0\\nsamples = 3\\nvalue = [0, 0, 0, 0, 0, 0, 0, 0, 0, 3]'),\n",
       " Text(0.688953488372093, 0.40625, 'X[22] <= 6.5\\ngini = 0.18\\nsamples = 10\\nvalue = [1, 0, 0, 0, 0, 0, 0, 0, 9, 0]'),\n",
       " Text(0.6831395348837209, 0.34375, 'gini = 0.0\\nsamples = 9\\nvalue = [0, 0, 0, 0, 0, 0, 0, 0, 9, 0]'),\n",
       " Text(0.6947674418604651, 0.34375, 'gini = 0.0\\nsamples = 1\\nvalue = [1, 0, 0, 0, 0, 0, 0, 0, 0, 0]'),\n",
       " Text(0.8226744186046512, 0.59375, 'X[20] <= 15.5\\ngini = 0.644\\nsamples = 225\\nvalue = [0, 83, 10, 12, 6, 2, 1, 3, 104, 4]'),\n",
       " Text(0.7558139534883721, 0.53125, 'X[18] <= 2.5\\ngini = 0.395\\nsamples = 123\\nvalue = [0, 5, 2, 7, 4, 2, 1, 3, 95, 4]'),\n",
       " Text(0.7238372093023255, 0.46875, 'X[2] <= 4.0\\ngini = 0.72\\nsamples = 15\\nvalue = [0, 2, 1, 7, 0, 0, 1, 2, 2, 0]'),\n",
       " Text(0.7122093023255814, 0.40625, 'X[59] <= 13.5\\ngini = 0.735\\nsamples = 7\\nvalue = [0, 2, 0, 0, 0, 0, 1, 2, 2, 0]'),\n",
       " Text(0.7063953488372093, 0.34375, 'X[20] <= 9.5\\ngini = 0.64\\nsamples = 5\\nvalue = [0, 2, 0, 0, 0, 0, 1, 0, 2, 0]'),\n",
       " Text(0.7005813953488372, 0.28125, 'gini = 0.0\\nsamples = 2\\nvalue = [0, 0, 0, 0, 0, 0, 0, 0, 2, 0]'),\n",
       " Text(0.7122093023255814, 0.28125, 'X[44] <= 7.0\\ngini = 0.444\\nsamples = 3\\nvalue = [0, 2, 0, 0, 0, 0, 1, 0, 0, 0]'),\n",
       " Text(0.7063953488372093, 0.21875, 'gini = 0.0\\nsamples = 1\\nvalue = [0, 0, 0, 0, 0, 0, 1, 0, 0, 0]'),\n",
       " Text(0.7180232558139535, 0.21875, 'gini = 0.0\\nsamples = 2\\nvalue = [0, 2, 0, 0, 0, 0, 0, 0, 0, 0]'),\n",
       " Text(0.7180232558139535, 0.34375, 'gini = 0.0\\nsamples = 2\\nvalue = [0, 0, 0, 0, 0, 0, 0, 2, 0, 0]'),\n",
       " Text(0.7354651162790697, 0.40625, 'X[44] <= 4.5\\ngini = 0.219\\nsamples = 8\\nvalue = [0, 0, 1, 7, 0, 0, 0, 0, 0, 0]'),\n",
       " Text(0.7296511627906976, 0.34375, 'gini = 0.0\\nsamples = 1\\nvalue = [0, 0, 1, 0, 0, 0, 0, 0, 0, 0]'),\n",
       " Text(0.7412790697674418, 0.34375, 'gini = 0.0\\nsamples = 7\\nvalue = [0, 0, 0, 7, 0, 0, 0, 0, 0, 0]'),\n",
       " Text(0.7877906976744186, 0.46875, 'X[30] <= 3.5\\ngini = 0.254\\nsamples = 108\\nvalue = [0, 3, 1, 0, 4, 2, 0, 1, 93, 4]'),\n",
       " Text(0.7645348837209303, 0.40625, 'X[21] <= 4.5\\ngini = 0.153\\nsamples = 99\\nvalue = [0, 3, 1, 0, 0, 2, 0, 0, 91, 2]'),\n",
       " Text(0.752906976744186, 0.34375, 'X[59] <= 12.0\\ngini = 0.611\\nsamples = 6\\nvalue = [0, 3, 0, 0, 0, 1, 0, 0, 2, 0]'),\n",
       " Text(0.747093023255814, 0.28125, 'gini = 0.0\\nsamples = 3\\nvalue = [0, 3, 0, 0, 0, 0, 0, 0, 0, 0]'),\n",
       " Text(0.7587209302325582, 0.28125, 'X[17] <= 4.0\\ngini = 0.444\\nsamples = 3\\nvalue = [0, 0, 0, 0, 0, 1, 0, 0, 2, 0]'),\n",
       " Text(0.752906976744186, 0.21875, 'gini = 0.0\\nsamples = 2\\nvalue = [0, 0, 0, 0, 0, 0, 0, 0, 2, 0]'),\n",
       " Text(0.7645348837209303, 0.21875, 'gini = 0.0\\nsamples = 1\\nvalue = [0, 0, 0, 0, 0, 1, 0, 0, 0, 0]'),\n",
       " Text(0.7761627906976745, 0.34375, 'X[3] <= 4.5\\ngini = 0.083\\nsamples = 93\\nvalue = [0, 0, 1, 0, 0, 1, 0, 0, 89, 2]'),\n",
       " Text(0.7703488372093024, 0.28125, 'gini = 0.0\\nsamples = 1\\nvalue = [0, 0, 0, 0, 0, 1, 0, 0, 0, 0]'),\n",
       " Text(0.7819767441860465, 0.28125, 'X[36] <= 1.5\\ngini = 0.064\\nsamples = 92\\nvalue = [0, 0, 1, 0, 0, 0, 0, 0, 89, 2]'),\n",
       " Text(0.7761627906976745, 0.21875, 'gini = 0.0\\nsamples = 1\\nvalue = [0, 0, 0, 0, 0, 0, 0, 0, 0, 1]'),\n",
       " Text(0.7877906976744186, 0.21875, 'X[6] <= 7.0\\ngini = 0.043\\nsamples = 91\\nvalue = [0, 0, 1, 0, 0, 0, 0, 0, 89, 1]'),\n",
       " Text(0.7819767441860465, 0.15625, 'X[36] <= 4.5\\ngini = 0.022\\nsamples = 90\\nvalue = [0, 0, 1, 0, 0, 0, 0, 0, 89, 0]'),\n",
       " Text(0.7761627906976745, 0.09375, 'X[26] <= 6.5\\ngini = 0.5\\nsamples = 2\\nvalue = [0, 0, 1, 0, 0, 0, 0, 0, 1, 0]'),\n",
       " Text(0.7703488372093024, 0.03125, 'gini = 0.0\\nsamples = 1\\nvalue = [0, 0, 1, 0, 0, 0, 0, 0, 0, 0]'),\n",
       " Text(0.7819767441860465, 0.03125, 'gini = 0.0\\nsamples = 1\\nvalue = [0, 0, 0, 0, 0, 0, 0, 0, 1, 0]'),\n",
       " Text(0.7877906976744186, 0.09375, 'gini = 0.0\\nsamples = 88\\nvalue = [0, 0, 0, 0, 0, 0, 0, 0, 88, 0]'),\n",
       " Text(0.7936046511627907, 0.15625, 'gini = 0.0\\nsamples = 1\\nvalue = [0, 0, 0, 0, 0, 0, 0, 0, 0, 1]'),\n",
       " Text(0.811046511627907, 0.40625, 'X[26] <= 8.5\\ngini = 0.691\\nsamples = 9\\nvalue = [0, 0, 0, 0, 4, 0, 0, 1, 2, 2]'),\n",
       " Text(0.7994186046511628, 0.34375, 'X[30] <= 7.5\\ngini = 0.444\\nsamples = 3\\nvalue = [0, 0, 0, 0, 0, 0, 0, 1, 2, 0]'),\n",
       " Text(0.7936046511627907, 0.28125, 'gini = 0.0\\nsamples = 2\\nvalue = [0, 0, 0, 0, 0, 0, 0, 0, 2, 0]'),\n",
       " Text(0.8052325581395349, 0.28125, 'gini = 0.0\\nsamples = 1\\nvalue = [0, 0, 0, 0, 0, 0, 0, 1, 0, 0]'),\n",
       " Text(0.8226744186046512, 0.34375, 'X[43] <= 6.5\\ngini = 0.444\\nsamples = 6\\nvalue = [0, 0, 0, 0, 4, 0, 0, 0, 0, 2]'),\n",
       " Text(0.8168604651162791, 0.28125, 'gini = 0.0\\nsamples = 2\\nvalue = [0, 0, 0, 0, 0, 0, 0, 0, 0, 2]'),\n",
       " Text(0.8284883720930233, 0.28125, 'gini = 0.0\\nsamples = 4\\nvalue = [0, 0, 0, 0, 4, 0, 0, 0, 0, 0]'),\n",
       " Text(0.8895348837209303, 0.53125, 'X[10] <= 13.5\\ngini = 0.399\\nsamples = 102\\nvalue = [0, 78, 8, 5, 2, 0, 0, 0, 9, 0]'),\n",
       " Text(0.8691860465116279, 0.46875, 'X[46] <= 1.5\\ngini = 0.177\\nsamples = 85\\nvalue = [0, 77, 1, 2, 2, 0, 0, 0, 3, 0]'),\n",
       " Text(0.8575581395348837, 0.40625, 'X[1] <= 1.5\\ngini = 0.073\\nsamples = 80\\nvalue = [0, 77, 1, 1, 0, 0, 0, 0, 1, 0]'),\n",
       " Text(0.8517441860465116, 0.34375, 'X[52] <= 7.5\\ngini = 0.05\\nsamples = 79\\nvalue = [0, 77, 0, 1, 0, 0, 0, 0, 1, 0]'),\n",
       " Text(0.8401162790697675, 0.28125, 'X[29] <= 1.5\\ngini = 0.5\\nsamples = 2\\nvalue = [0, 1, 0, 0, 0, 0, 0, 0, 1, 0]'),\n",
       " Text(0.8343023255813954, 0.21875, 'gini = 0.0\\nsamples = 1\\nvalue = [0, 0, 0, 0, 0, 0, 0, 0, 1, 0]'),\n",
       " Text(0.8459302325581395, 0.21875, 'gini = 0.0\\nsamples = 1\\nvalue = [0, 1, 0, 0, 0, 0, 0, 0, 0, 0]'),\n",
       " Text(0.8633720930232558, 0.28125, 'X[12] <= 10.0\\ngini = 0.026\\nsamples = 77\\nvalue = [0, 76, 0, 1, 0, 0, 0, 0, 0, 0]'),\n",
       " Text(0.8575581395348837, 0.21875, 'X[34] <= 7.0\\ngini = 0.5\\nsamples = 2\\nvalue = [0, 1, 0, 1, 0, 0, 0, 0, 0, 0]'),\n",
       " Text(0.8517441860465116, 0.15625, 'gini = 0.0\\nsamples = 1\\nvalue = [0, 0, 0, 1, 0, 0, 0, 0, 0, 0]'),\n",
       " Text(0.8633720930232558, 0.15625, 'gini = 0.0\\nsamples = 1\\nvalue = [0, 1, 0, 0, 0, 0, 0, 0, 0, 0]'),\n",
       " Text(0.8691860465116279, 0.21875, 'gini = 0.0\\nsamples = 75\\nvalue = [0, 75, 0, 0, 0, 0, 0, 0, 0, 0]'),\n",
       " Text(0.8633720930232558, 0.34375, 'gini = 0.0\\nsamples = 1\\nvalue = [0, 0, 1, 0, 0, 0, 0, 0, 0, 0]'),\n",
       " Text(0.8808139534883721, 0.40625, 'X[52] <= 5.5\\ngini = 0.64\\nsamples = 5\\nvalue = [0, 0, 0, 1, 2, 0, 0, 0, 2, 0]'),\n",
       " Text(0.875, 0.34375, 'gini = 0.0\\nsamples = 2\\nvalue = [0, 0, 0, 0, 0, 0, 0, 0, 2, 0]'),\n",
       " Text(0.8866279069767442, 0.34375, 'X[21] <= 3.5\\ngini = 0.444\\nsamples = 3\\nvalue = [0, 0, 0, 1, 2, 0, 0, 0, 0, 0]'),\n",
       " Text(0.8808139534883721, 0.28125, 'gini = 0.0\\nsamples = 1\\nvalue = [0, 0, 0, 1, 0, 0, 0, 0, 0, 0]'),\n",
       " Text(0.8924418604651163, 0.28125, 'gini = 0.0\\nsamples = 2\\nvalue = [0, 0, 0, 0, 2, 0, 0, 0, 0, 0]'),\n",
       " Text(0.9098837209302325, 0.46875, 'X[21] <= 5.5\\ngini = 0.671\\nsamples = 17\\nvalue = [0, 1, 7, 3, 0, 0, 0, 0, 6, 0]'),\n",
       " Text(0.9040697674418605, 0.40625, 'gini = 0.0\\nsamples = 7\\nvalue = [0, 0, 7, 0, 0, 0, 0, 0, 0, 0]'),\n",
       " Text(0.9156976744186046, 0.40625, 'X[50] <= 12.5\\ngini = 0.54\\nsamples = 10\\nvalue = [0, 1, 0, 3, 0, 0, 0, 0, 6, 0]'),\n",
       " Text(0.9098837209302325, 0.34375, 'X[42] <= 7.5\\ngini = 0.375\\nsamples = 4\\nvalue = [0, 1, 0, 3, 0, 0, 0, 0, 0, 0]'),\n",
       " Text(0.9040697674418605, 0.28125, 'gini = 0.0\\nsamples = 3\\nvalue = [0, 0, 0, 3, 0, 0, 0, 0, 0, 0]'),\n",
       " Text(0.9156976744186046, 0.28125, 'gini = 0.0\\nsamples = 1\\nvalue = [0, 1, 0, 0, 0, 0, 0, 0, 0, 0]'),\n",
       " Text(0.9215116279069767, 0.34375, 'gini = 0.0\\nsamples = 6\\nvalue = [0, 0, 0, 0, 0, 0, 0, 0, 6, 0]'),\n",
       " Text(0.9476744186046512, 0.71875, 'X[5] <= 9.5\\ngini = 0.339\\nsamples = 113\\nvalue = [0, 11, 0, 1, 91, 1, 2, 5, 2, 0]'),\n",
       " Text(0.9186046511627907, 0.65625, 'X[37] <= 6.5\\ngini = 0.12\\nsamples = 95\\nvalue = [0, 4, 0, 0, 89, 0, 1, 1, 0, 0]'),\n",
       " Text(0.9069767441860465, 0.59375, 'X[51] <= 1.0\\ngini = 0.32\\nsamples = 5\\nvalue = [0, 4, 0, 0, 1, 0, 0, 0, 0, 0]'),\n",
       " Text(0.9011627906976745, 0.53125, 'gini = 0.0\\nsamples = 1\\nvalue = [0, 0, 0, 0, 1, 0, 0, 0, 0, 0]'),\n",
       " Text(0.9127906976744186, 0.53125, 'gini = 0.0\\nsamples = 4\\nvalue = [0, 4, 0, 0, 0, 0, 0, 0, 0, 0]'),\n",
       " Text(0.9302325581395349, 0.59375, 'X[44] <= 6.0\\ngini = 0.044\\nsamples = 90\\nvalue = [0, 0, 0, 0, 88, 0, 1, 1, 0, 0]'),\n",
       " Text(0.9244186046511628, 0.53125, 'gini = 0.0\\nsamples = 1\\nvalue = [0, 0, 0, 0, 0, 0, 1, 0, 0, 0]'),\n",
       " Text(0.936046511627907, 0.53125, 'X[19] <= 1.5\\ngini = 0.022\\nsamples = 89\\nvalue = [0, 0, 0, 0, 88, 0, 0, 1, 0, 0]'),\n",
       " Text(0.9302325581395349, 0.46875, 'gini = 0.0\\nsamples = 1\\nvalue = [0, 0, 0, 0, 0, 0, 0, 1, 0, 0]'),\n",
       " Text(0.9418604651162791, 0.46875, 'gini = 0.0\\nsamples = 88\\nvalue = [0, 0, 0, 0, 88, 0, 0, 0, 0, 0]'),\n",
       " Text(0.9767441860465116, 0.65625, 'X[12] <= 10.5\\ngini = 0.765\\nsamples = 18\\nvalue = [0, 7, 0, 1, 2, 1, 1, 4, 2, 0]'),\n",
       " Text(0.9651162790697675, 0.59375, 'X[36] <= 14.5\\ngini = 0.716\\nsamples = 9\\nvalue = [0, 0, 0, 1, 0, 1, 1, 4, 2, 0]'),\n",
       " Text(0.9593023255813954, 0.53125, 'X[14] <= 3.5\\ngini = 0.72\\nsamples = 5\\nvalue = [0, 0, 0, 1, 0, 1, 1, 0, 2, 0]'),\n",
       " Text(0.9534883720930233, 0.46875, 'gini = 0.0\\nsamples = 2\\nvalue = [0, 0, 0, 0, 0, 0, 0, 0, 2, 0]'),\n",
       " Text(0.9651162790697675, 0.46875, 'X[30] <= 1.0\\ngini = 0.667\\nsamples = 3\\nvalue = [0, 0, 0, 1, 0, 1, 1, 0, 0, 0]'),\n",
       " Text(0.9593023255813954, 0.40625, 'gini = 0.0\\nsamples = 1\\nvalue = [0, 0, 0, 0, 0, 0, 1, 0, 0, 0]'),\n",
       " Text(0.9709302325581395, 0.40625, 'X[6] <= 5.5\\ngini = 0.5\\nsamples = 2\\nvalue = [0, 0, 0, 1, 0, 1, 0, 0, 0, 0]'),\n",
       " Text(0.9651162790697675, 0.34375, 'gini = 0.0\\nsamples = 1\\nvalue = [0, 0, 0, 1, 0, 0, 0, 0, 0, 0]'),\n",
       " Text(0.9767441860465116, 0.34375, 'gini = 0.0\\nsamples = 1\\nvalue = [0, 0, 0, 0, 0, 1, 0, 0, 0, 0]'),\n",
       " Text(0.9709302325581395, 0.53125, 'gini = 0.0\\nsamples = 4\\nvalue = [0, 0, 0, 0, 0, 0, 0, 4, 0, 0]'),\n",
       " Text(0.9883720930232558, 0.59375, 'X[27] <= 9.0\\ngini = 0.346\\nsamples = 9\\nvalue = [0, 7, 0, 0, 2, 0, 0, 0, 0, 0]'),\n",
       " Text(0.9825581395348837, 0.53125, 'gini = 0.0\\nsamples = 2\\nvalue = [0, 0, 0, 0, 2, 0, 0, 0, 0, 0]'),\n",
       " Text(0.9941860465116279, 0.53125, 'gini = 0.0\\nsamples = 7\\nvalue = [0, 7, 0, 0, 0, 0, 0, 0, 0, 0]')]"
      ]
     },
     "execution_count": 50,
     "metadata": {},
     "output_type": "execute_result"
    },
    {
     "data": {
      "image/png": "[encoded data removed]",
      "text/plain": [
       "<Figure size 864x576 with 1 Axes>"
      ]
     },
     "metadata": {
      "needs_background": "light"
     },
     "output_type": "display_data"
    }
   ],
   "source": [
    "plt.figure(figsize = (12,8))\n",
    "tree.plot_tree(model.fit(X_train,y_train))"
   ]
  },
  {
   "cell_type": "code",
   "execution_count": 52,
   "id": "c6a2a549",
   "metadata": {},
   "outputs": [
    {
     "data": {
      "text/plain": [
       "0.975"
      ]
     },
     "execution_count": 52,
     "metadata": {},
     "output_type": "execute_result"
    }
   ],
   "source": [
    "from sklearn.ensemble import RandomForestClassifier\n",
    "rf = RandomForestClassifier()\n",
    "rf.fit(X_train,y_train)\n",
    "rf.score(X_test,y_test)\n"
   ]
  },
  {
   "cell_type": "code",
   "execution_count": null,
   "id": "56fbfa2c",
   "metadata": {},
   "outputs": [],
   "source": []
  }
 ],
 "metadata": {
  "kernelspec": {
   "display_name": "Python 3 (ipykernel)",
   "language": "python",
   "name": "python3"
  },
  "language_info": {
   "codemirror_mode": {
    "name": "ipython",
    "version": 3
   },
   "file_extension": ".py",
   "mimetype": "text/x-python",
   "name": "python",
   "nbconvert_exporter": "python",
   "pygments_lexer": "ipython3",
   "version": "3.9.12"
  }
 },
 "nbformat": 4,
 "nbformat_minor": 5
}
